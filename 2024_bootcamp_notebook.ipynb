{
  "cells": [
    {
      "cell_type": "markdown",
      "id": "5b47acb6-a558-40bf-bd76-872941fdf879",
      "metadata": {
        "id": "5b47acb6-a558-40bf-bd76-872941fdf879"
      },
      "source": [
        "# Installing the dependencies\n",
        "\n",
        "Now, let's install the dependencies."
      ]
    },
    {
      "cell_type": "code",
      "execution_count": 1,
      "id": "e0bb548e-6e98-4fac-935e-52a8115c4aac",
      "metadata": {
        "id": "e0bb548e-6e98-4fac-935e-52a8115c4aac",
        "colab": {
          "base_uri": "https://localhost:8080/"
        },
        "outputId": "ebfac54f-998f-4f29-f455-a41d88874bb3"
      },
      "outputs": [
        {
          "output_type": "stream",
          "name": "stdout",
          "text": [
            "Collecting tensorly\n",
            "  Downloading tensorly-0.8.1-py3-none-any.whl (229 kB)\n",
            "\u001b[2K     \u001b[90m━━━━━━━━━━━━━━━━━━━━━━━━━━━━━━━━━━━━━━━━\u001b[0m \u001b[32m229.7/229.7 kB\u001b[0m \u001b[31m2.8 MB/s\u001b[0m eta \u001b[36m0:00:00\u001b[0m\n",
            "\u001b[?25hRequirement already satisfied: numpy in /usr/local/lib/python3.10/dist-packages (from tensorly) (1.25.2)\n",
            "Requirement already satisfied: scipy in /usr/local/lib/python3.10/dist-packages (from tensorly) (1.11.4)\n",
            "Installing collected packages: tensorly\n",
            "Successfully installed tensorly-0.8.1\n",
            "Collecting torch-harmonics\n",
            "  Downloading torch_harmonics-0.6.5-py3-none-any.whl (63 kB)\n",
            "\u001b[2K     \u001b[90m━━━━━━━━━━━━━━━━━━━━━━━━━━━━━━━━━━━━━━━━\u001b[0m \u001b[32m63.6/63.6 kB\u001b[0m \u001b[31m1.4 MB/s\u001b[0m eta \u001b[36m0:00:00\u001b[0m\n",
            "\u001b[?25hRequirement already satisfied: torch in /usr/local/lib/python3.10/dist-packages (from torch-harmonics) (2.2.1+cu121)\n",
            "Requirement already satisfied: numpy in /usr/local/lib/python3.10/dist-packages (from torch-harmonics) (1.25.2)\n",
            "Requirement already satisfied: triton in /usr/local/lib/python3.10/dist-packages (from torch-harmonics) (2.2.0)\n",
            "Requirement already satisfied: filelock in /usr/local/lib/python3.10/dist-packages (from torch->torch-harmonics) (3.13.4)\n",
            "Requirement already satisfied: typing-extensions>=4.8.0 in /usr/local/lib/python3.10/dist-packages (from torch->torch-harmonics) (4.11.0)\n",
            "Requirement already satisfied: sympy in /usr/local/lib/python3.10/dist-packages (from torch->torch-harmonics) (1.12)\n",
            "Requirement already satisfied: networkx in /usr/local/lib/python3.10/dist-packages (from torch->torch-harmonics) (3.3)\n",
            "Requirement already satisfied: jinja2 in /usr/local/lib/python3.10/dist-packages (from torch->torch-harmonics) (3.1.3)\n",
            "Requirement already satisfied: fsspec in /usr/local/lib/python3.10/dist-packages (from torch->torch-harmonics) (2023.6.0)\n",
            "Collecting nvidia-cuda-nvrtc-cu12==12.1.105 (from torch->torch-harmonics)\n",
            "  Using cached nvidia_cuda_nvrtc_cu12-12.1.105-py3-none-manylinux1_x86_64.whl (23.7 MB)\n",
            "Collecting nvidia-cuda-runtime-cu12==12.1.105 (from torch->torch-harmonics)\n",
            "  Using cached nvidia_cuda_runtime_cu12-12.1.105-py3-none-manylinux1_x86_64.whl (823 kB)\n",
            "Collecting nvidia-cuda-cupti-cu12==12.1.105 (from torch->torch-harmonics)\n",
            "  Using cached nvidia_cuda_cupti_cu12-12.1.105-py3-none-manylinux1_x86_64.whl (14.1 MB)\n",
            "Collecting nvidia-cudnn-cu12==8.9.2.26 (from torch->torch-harmonics)\n",
            "  Using cached nvidia_cudnn_cu12-8.9.2.26-py3-none-manylinux1_x86_64.whl (731.7 MB)\n",
            "Collecting nvidia-cublas-cu12==12.1.3.1 (from torch->torch-harmonics)\n",
            "  Using cached nvidia_cublas_cu12-12.1.3.1-py3-none-manylinux1_x86_64.whl (410.6 MB)\n",
            "Collecting nvidia-cufft-cu12==11.0.2.54 (from torch->torch-harmonics)\n",
            "  Using cached nvidia_cufft_cu12-11.0.2.54-py3-none-manylinux1_x86_64.whl (121.6 MB)\n",
            "Collecting nvidia-curand-cu12==10.3.2.106 (from torch->torch-harmonics)\n",
            "  Using cached nvidia_curand_cu12-10.3.2.106-py3-none-manylinux1_x86_64.whl (56.5 MB)\n",
            "Collecting nvidia-cusolver-cu12==11.4.5.107 (from torch->torch-harmonics)\n",
            "  Using cached nvidia_cusolver_cu12-11.4.5.107-py3-none-manylinux1_x86_64.whl (124.2 MB)\n",
            "Collecting nvidia-cusparse-cu12==12.1.0.106 (from torch->torch-harmonics)\n",
            "  Using cached nvidia_cusparse_cu12-12.1.0.106-py3-none-manylinux1_x86_64.whl (196.0 MB)\n",
            "Collecting nvidia-nccl-cu12==2.19.3 (from torch->torch-harmonics)\n",
            "  Using cached nvidia_nccl_cu12-2.19.3-py3-none-manylinux1_x86_64.whl (166.0 MB)\n",
            "Collecting nvidia-nvtx-cu12==12.1.105 (from torch->torch-harmonics)\n",
            "  Using cached nvidia_nvtx_cu12-12.1.105-py3-none-manylinux1_x86_64.whl (99 kB)\n",
            "Collecting nvidia-nvjitlink-cu12 (from nvidia-cusolver-cu12==11.4.5.107->torch->torch-harmonics)\n",
            "  Using cached nvidia_nvjitlink_cu12-12.4.127-py3-none-manylinux2014_x86_64.whl (21.1 MB)\n",
            "Requirement already satisfied: MarkupSafe>=2.0 in /usr/local/lib/python3.10/dist-packages (from jinja2->torch->torch-harmonics) (2.1.5)\n",
            "Requirement already satisfied: mpmath>=0.19 in /usr/local/lib/python3.10/dist-packages (from sympy->torch->torch-harmonics) (1.3.0)\n",
            "Installing collected packages: nvidia-nvtx-cu12, nvidia-nvjitlink-cu12, nvidia-nccl-cu12, nvidia-curand-cu12, nvidia-cufft-cu12, nvidia-cuda-runtime-cu12, nvidia-cuda-nvrtc-cu12, nvidia-cuda-cupti-cu12, nvidia-cublas-cu12, nvidia-cusparse-cu12, nvidia-cudnn-cu12, nvidia-cusolver-cu12, torch-harmonics\n",
            "Successfully installed nvidia-cublas-cu12-12.1.3.1 nvidia-cuda-cupti-cu12-12.1.105 nvidia-cuda-nvrtc-cu12-12.1.105 nvidia-cuda-runtime-cu12-12.1.105 nvidia-cudnn-cu12-8.9.2.26 nvidia-cufft-cu12-11.0.2.54 nvidia-curand-cu12-10.3.2.106 nvidia-cusolver-cu12-11.4.5.107 nvidia-cusparse-cu12-12.1.0.106 nvidia-nccl-cu12-2.19.3 nvidia-nvjitlink-cu12-12.4.127 nvidia-nvtx-cu12-12.1.105 torch-harmonics-0.6.5\n",
            "Collecting neuraloperator\n",
            "  Downloading neuraloperator-0.3.0-py3-none-any.whl (4.0 MB)\n",
            "\u001b[2K     \u001b[90m━━━━━━━━━━━━━━━━━━━━━━━━━━━━━━━━━━━━━━━━\u001b[0m \u001b[32m4.0/4.0 MB\u001b[0m \u001b[31m31.5 MB/s\u001b[0m eta \u001b[36m0:00:00\u001b[0m\n",
            "\u001b[?25hRequirement already satisfied: numpy in /usr/local/lib/python3.10/dist-packages (from neuraloperator) (1.25.2)\n",
            "Collecting configmypy (from neuraloperator)\n",
            "  Downloading configmypy-0.1.0-py3-none-any.whl (11 kB)\n",
            "Requirement already satisfied: pytest in /usr/local/lib/python3.10/dist-packages (from neuraloperator) (7.4.4)\n",
            "Collecting black (from neuraloperator)\n",
            "  Downloading black-24.4.1-cp310-cp310-manylinux_2_17_x86_64.manylinux2014_x86_64.whl (1.8 MB)\n",
            "\u001b[2K     \u001b[90m━━━━━━━━━━━━━━━━━━━━━━━━━━━━━━━━━━━━━━━━\u001b[0m \u001b[32m1.8/1.8 MB\u001b[0m \u001b[31m55.5 MB/s\u001b[0m eta \u001b[36m0:00:00\u001b[0m\n",
            "\u001b[?25hRequirement already satisfied: tensorly in /usr/local/lib/python3.10/dist-packages (from neuraloperator) (0.8.1)\n",
            "Collecting tensorly-torch (from neuraloperator)\n",
            "  Downloading tensorly_torch-0.4.0-py3-none-any.whl (59 kB)\n",
            "\u001b[2K     \u001b[90m━━━━━━━━━━━━━━━━━━━━━━━━━━━━━━━━━━━━━━━━\u001b[0m \u001b[32m59.1/59.1 kB\u001b[0m \u001b[31m6.8 MB/s\u001b[0m eta \u001b[36m0:00:00\u001b[0m\n",
            "\u001b[?25hRequirement already satisfied: opt-einsum in /usr/local/lib/python3.10/dist-packages (from neuraloperator) (3.3.0)\n",
            "Requirement already satisfied: click>=8.0.0 in /usr/local/lib/python3.10/dist-packages (from black->neuraloperator) (8.1.7)\n",
            "Collecting mypy-extensions>=0.4.3 (from black->neuraloperator)\n",
            "  Downloading mypy_extensions-1.0.0-py3-none-any.whl (4.7 kB)\n",
            "Requirement already satisfied: packaging>=22.0 in /usr/local/lib/python3.10/dist-packages (from black->neuraloperator) (24.0)\n",
            "Collecting pathspec>=0.9.0 (from black->neuraloperator)\n",
            "  Downloading pathspec-0.12.1-py3-none-any.whl (31 kB)\n",
            "Requirement already satisfied: platformdirs>=2 in /usr/local/lib/python3.10/dist-packages (from black->neuraloperator) (4.2.0)\n",
            "Requirement already satisfied: tomli>=1.1.0 in /usr/local/lib/python3.10/dist-packages (from black->neuraloperator) (2.0.1)\n",
            "Requirement already satisfied: typing-extensions>=4.0.1 in /usr/local/lib/python3.10/dist-packages (from black->neuraloperator) (4.11.0)\n",
            "Collecting pytest-mock (from configmypy->neuraloperator)\n",
            "  Downloading pytest_mock-3.14.0-py3-none-any.whl (9.9 kB)\n",
            "Collecting ruamel.yaml (from configmypy->neuraloperator)\n",
            "  Downloading ruamel.yaml-0.18.6-py3-none-any.whl (117 kB)\n",
            "\u001b[2K     \u001b[90m━━━━━━━━━━━━━━━━━━━━━━━━━━━━━━━━━━━━━━━━\u001b[0m \u001b[32m117.8/117.8 kB\u001b[0m \u001b[31m15.5 MB/s\u001b[0m eta \u001b[36m0:00:00\u001b[0m\n",
            "\u001b[?25hRequirement already satisfied: iniconfig in /usr/local/lib/python3.10/dist-packages (from pytest->neuraloperator) (2.0.0)\n",
            "Requirement already satisfied: pluggy<2.0,>=0.12 in /usr/local/lib/python3.10/dist-packages (from pytest->neuraloperator) (1.4.0)\n",
            "Requirement already satisfied: exceptiongroup>=1.0.0rc8 in /usr/local/lib/python3.10/dist-packages (from pytest->neuraloperator) (1.2.1)\n",
            "Requirement already satisfied: scipy in /usr/local/lib/python3.10/dist-packages (from tensorly->neuraloperator) (1.11.4)\n",
            "Collecting nose (from tensorly-torch->neuraloperator)\n",
            "  Downloading nose-1.3.7-py3-none-any.whl (154 kB)\n",
            "\u001b[2K     \u001b[90m━━━━━━━━━━━━━━━━━━━━━━━━━━━━━━━━━━━━━━━━\u001b[0m \u001b[32m154.7/154.7 kB\u001b[0m \u001b[31m20.7 MB/s\u001b[0m eta \u001b[36m0:00:00\u001b[0m\n",
            "\u001b[?25hCollecting ruamel.yaml.clib>=0.2.7 (from ruamel.yaml->configmypy->neuraloperator)\n",
            "  Downloading ruamel.yaml.clib-0.2.8-cp310-cp310-manylinux_2_17_x86_64.manylinux2014_x86_64.manylinux_2_24_x86_64.whl (526 kB)\n",
            "\u001b[2K     \u001b[90m━━━━━━━━━━━━━━━━━━━━━━━━━━━━━━━━━━━━━━━━\u001b[0m \u001b[32m526.7/526.7 kB\u001b[0m \u001b[31m47.6 MB/s\u001b[0m eta \u001b[36m0:00:00\u001b[0m\n",
            "\u001b[?25hInstalling collected packages: nose, ruamel.yaml.clib, pathspec, mypy-extensions, tensorly-torch, ruamel.yaml, pytest-mock, black, configmypy, neuraloperator\n",
            "Successfully installed black-24.4.1 configmypy-0.1.0 mypy-extensions-1.0.0 neuraloperator-0.3.0 nose-1.3.7 pathspec-0.12.1 pytest-mock-3.14.0 ruamel.yaml-0.18.6 ruamel.yaml.clib-0.2.8 tensorly-torch-0.4.0\n",
            "Collecting gpustat\n",
            "  Downloading gpustat-1.1.1.tar.gz (98 kB)\n",
            "\u001b[2K     \u001b[90m━━━━━━━━━━━━━━━━━━━━━━━━━━━━━━━━━━━━━━━━\u001b[0m \u001b[32m98.1/98.1 kB\u001b[0m \u001b[31m2.9 MB/s\u001b[0m eta \u001b[36m0:00:00\u001b[0m\n",
            "\u001b[?25h  Installing build dependencies ... \u001b[?25l\u001b[?25hdone\n",
            "  Getting requirements to build wheel ... \u001b[?25l\u001b[?25hdone\n",
            "  Preparing metadata (pyproject.toml) ... \u001b[?25l\u001b[?25hdone\n",
            "Collecting nvidia-ml-py>=11.450.129 (from gpustat)\n",
            "  Downloading nvidia_ml_py-12.535.133-py3-none-any.whl (37 kB)\n",
            "Requirement already satisfied: psutil>=5.6.0 in /usr/local/lib/python3.10/dist-packages (from gpustat) (5.9.5)\n",
            "Collecting blessed>=1.17.1 (from gpustat)\n",
            "  Downloading blessed-1.20.0-py2.py3-none-any.whl (58 kB)\n",
            "\u001b[2K     \u001b[90m━━━━━━━━━━━━━━━━━━━━━━━━━━━━━━━━━━━━━━━━\u001b[0m \u001b[32m58.4/58.4 kB\u001b[0m \u001b[31m8.1 MB/s\u001b[0m eta \u001b[36m0:00:00\u001b[0m\n",
            "\u001b[?25hRequirement already satisfied: wcwidth>=0.1.4 in /usr/local/lib/python3.10/dist-packages (from blessed>=1.17.1->gpustat) (0.2.13)\n",
            "Requirement already satisfied: six>=1.9.0 in /usr/local/lib/python3.10/dist-packages (from blessed>=1.17.1->gpustat) (1.16.0)\n",
            "Building wheels for collected packages: gpustat\n",
            "  Building wheel for gpustat (pyproject.toml) ... \u001b[?25l\u001b[?25hdone\n",
            "  Created wheel for gpustat: filename=gpustat-1.1.1-py3-none-any.whl size=26532 sha256=eb0778d1f88000bcd0b5d52ae02e8eaae0b648c959bd0b27238ba2b6c0a3e66d\n",
            "  Stored in directory: /root/.cache/pip/wheels/ec/d7/80/a71ba3540900e1f276bcae685efd8e590c810d2108b95f1e47\n",
            "Successfully built gpustat\n",
            "Installing collected packages: nvidia-ml-py, blessed, gpustat\n",
            "Successfully installed blessed-1.20.0 gpustat-1.1.1 nvidia-ml-py-12.535.133\n",
            "Requirement already satisfied: gdown in /usr/local/lib/python3.10/dist-packages (5.1.0)\n",
            "Requirement already satisfied: beautifulsoup4 in /usr/local/lib/python3.10/dist-packages (from gdown) (4.12.3)\n",
            "Requirement already satisfied: filelock in /usr/local/lib/python3.10/dist-packages (from gdown) (3.13.4)\n",
            "Requirement already satisfied: requests[socks] in /usr/local/lib/python3.10/dist-packages (from gdown) (2.31.0)\n",
            "Requirement already satisfied: tqdm in /usr/local/lib/python3.10/dist-packages (from gdown) (4.66.2)\n",
            "Requirement already satisfied: soupsieve>1.2 in /usr/local/lib/python3.10/dist-packages (from beautifulsoup4->gdown) (2.5)\n",
            "Requirement already satisfied: charset-normalizer<4,>=2 in /usr/local/lib/python3.10/dist-packages (from requests[socks]->gdown) (3.3.2)\n",
            "Requirement already satisfied: idna<4,>=2.5 in /usr/local/lib/python3.10/dist-packages (from requests[socks]->gdown) (3.7)\n",
            "Requirement already satisfied: urllib3<3,>=1.21.1 in /usr/local/lib/python3.10/dist-packages (from requests[socks]->gdown) (2.0.7)\n",
            "Requirement already satisfied: certifi>=2017.4.17 in /usr/local/lib/python3.10/dist-packages (from requests[socks]->gdown) (2024.2.2)\n",
            "Requirement already satisfied: PySocks!=1.5.7,>=1.5.6 in /usr/local/lib/python3.10/dist-packages (from requests[socks]->gdown) (1.7.1)\n",
            "Requirement already satisfied: opt-einsum in /usr/local/lib/python3.10/dist-packages (3.3.0)\n",
            "Requirement already satisfied: numpy>=1.7 in /usr/local/lib/python3.10/dist-packages (from opt-einsum) (1.25.2)\n",
            "Requirement already satisfied: h5py in /usr/local/lib/python3.10/dist-packages (3.9.0)\n",
            "Collecting wandb\n",
            "  Downloading wandb-0.16.6-py3-none-any.whl (2.2 MB)\n",
            "\u001b[2K     \u001b[90m━━━━━━━━━━━━━━━━━━━━━━━━━━━━━━━━━━━━━━━━\u001b[0m \u001b[32m2.2/2.2 MB\u001b[0m \u001b[31m22.5 MB/s\u001b[0m eta \u001b[36m0:00:00\u001b[0m\n",
            "\u001b[?25hRequirement already satisfied: ruamel.yaml in /usr/local/lib/python3.10/dist-packages (0.18.6)\n",
            "Collecting zarr\n",
            "  Downloading zarr-2.17.2-py3-none-any.whl (208 kB)\n",
            "\u001b[2K     \u001b[90m━━━━━━━━━━━━━━━━━━━━━━━━━━━━━━━━━━━━━━━━\u001b[0m \u001b[32m208.5/208.5 kB\u001b[0m \u001b[31m22.2 MB/s\u001b[0m eta \u001b[36m0:00:00\u001b[0m\n",
            "\u001b[?25hRequirement already satisfied: numpy>=1.17.3 in /usr/local/lib/python3.10/dist-packages (from h5py) (1.25.2)\n",
            "Requirement already satisfied: Click!=8.0.0,>=7.1 in /usr/local/lib/python3.10/dist-packages (from wandb) (8.1.7)\n",
            "Collecting GitPython!=3.1.29,>=1.0.0 (from wandb)\n",
            "  Downloading GitPython-3.1.43-py3-none-any.whl (207 kB)\n",
            "\u001b[2K     \u001b[90m━━━━━━━━━━━━━━━━━━━━━━━━━━━━━━━━━━━━━━━━\u001b[0m \u001b[32m207.3/207.3 kB\u001b[0m \u001b[31m23.8 MB/s\u001b[0m eta \u001b[36m0:00:00\u001b[0m\n",
            "\u001b[?25hRequirement already satisfied: requests<3,>=2.0.0 in /usr/local/lib/python3.10/dist-packages (from wandb) (2.31.0)\n",
            "Requirement already satisfied: psutil>=5.0.0 in /usr/local/lib/python3.10/dist-packages (from wandb) (5.9.5)\n",
            "Collecting sentry-sdk>=1.0.0 (from wandb)\n",
            "  Downloading sentry_sdk-1.45.0-py2.py3-none-any.whl (267 kB)\n",
            "\u001b[2K     \u001b[90m━━━━━━━━━━━━━━━━━━━━━━━━━━━━━━━━━━━━━━━━\u001b[0m \u001b[32m267.1/267.1 kB\u001b[0m \u001b[31m24.8 MB/s\u001b[0m eta \u001b[36m0:00:00\u001b[0m\n",
            "\u001b[?25hCollecting docker-pycreds>=0.4.0 (from wandb)\n",
            "  Downloading docker_pycreds-0.4.0-py2.py3-none-any.whl (9.0 kB)\n",
            "Requirement already satisfied: PyYAML in /usr/local/lib/python3.10/dist-packages (from wandb) (6.0.1)\n",
            "Collecting setproctitle (from wandb)\n",
            "  Downloading setproctitle-1.3.3-cp310-cp310-manylinux_2_5_x86_64.manylinux1_x86_64.manylinux_2_17_x86_64.manylinux2014_x86_64.whl (30 kB)\n",
            "Requirement already satisfied: setuptools in /usr/local/lib/python3.10/dist-packages (from wandb) (67.7.2)\n",
            "Requirement already satisfied: appdirs>=1.4.3 in /usr/local/lib/python3.10/dist-packages (from wandb) (1.4.4)\n",
            "Requirement already satisfied: protobuf!=4.21.0,<5,>=3.19.0 in /usr/local/lib/python3.10/dist-packages (from wandb) (3.20.3)\n",
            "Requirement already satisfied: ruamel.yaml.clib>=0.2.7 in /usr/local/lib/python3.10/dist-packages (from ruamel.yaml) (0.2.8)\n",
            "Collecting asciitree (from zarr)\n",
            "  Downloading asciitree-0.3.3.tar.gz (4.0 kB)\n",
            "  Preparing metadata (setup.py) ... \u001b[?25l\u001b[?25hdone\n",
            "Collecting numcodecs>=0.10.0 (from zarr)\n",
            "  Downloading numcodecs-0.12.1-cp310-cp310-manylinux_2_17_x86_64.manylinux2014_x86_64.whl (7.7 MB)\n",
            "\u001b[2K     \u001b[90m━━━━━━━━━━━━━━━━━━━━━━━━━━━━━━━━━━━━━━━━\u001b[0m \u001b[32m7.7/7.7 MB\u001b[0m \u001b[31m86.2 MB/s\u001b[0m eta \u001b[36m0:00:00\u001b[0m\n",
            "\u001b[?25hCollecting fasteners (from zarr)\n",
            "  Downloading fasteners-0.19-py3-none-any.whl (18 kB)\n",
            "Requirement already satisfied: six>=1.4.0 in /usr/local/lib/python3.10/dist-packages (from docker-pycreds>=0.4.0->wandb) (1.16.0)\n",
            "Collecting gitdb<5,>=4.0.1 (from GitPython!=3.1.29,>=1.0.0->wandb)\n",
            "  Downloading gitdb-4.0.11-py3-none-any.whl (62 kB)\n",
            "\u001b[2K     \u001b[90m━━━━━━━━━━━━━━━━━━━━━━━━━━━━━━━━━━━━━━━━\u001b[0m \u001b[32m62.7/62.7 kB\u001b[0m \u001b[31m8.7 MB/s\u001b[0m eta \u001b[36m0:00:00\u001b[0m\n",
            "\u001b[?25hRequirement already satisfied: charset-normalizer<4,>=2 in /usr/local/lib/python3.10/dist-packages (from requests<3,>=2.0.0->wandb) (3.3.2)\n",
            "Requirement already satisfied: idna<4,>=2.5 in /usr/local/lib/python3.10/dist-packages (from requests<3,>=2.0.0->wandb) (3.7)\n",
            "Requirement already satisfied: urllib3<3,>=1.21.1 in /usr/local/lib/python3.10/dist-packages (from requests<3,>=2.0.0->wandb) (2.0.7)\n",
            "Requirement already satisfied: certifi>=2017.4.17 in /usr/local/lib/python3.10/dist-packages (from requests<3,>=2.0.0->wandb) (2024.2.2)\n",
            "Collecting smmap<6,>=3.0.1 (from gitdb<5,>=4.0.1->GitPython!=3.1.29,>=1.0.0->wandb)\n",
            "  Downloading smmap-5.0.1-py3-none-any.whl (24 kB)\n",
            "Building wheels for collected packages: asciitree\n",
            "  Building wheel for asciitree (setup.py) ... \u001b[?25l\u001b[?25hdone\n",
            "  Created wheel for asciitree: filename=asciitree-0.3.3-py3-none-any.whl size=5034 sha256=9b360729437a21a98c813a051c4706c88963112a53052d30dc1c010cd033e45a\n",
            "  Stored in directory: /root/.cache/pip/wheels/7f/4e/be/1171b40f43b918087657ec57cf3b81fa1a2e027d8755baa184\n",
            "Successfully built asciitree\n",
            "Installing collected packages: asciitree, smmap, setproctitle, sentry-sdk, numcodecs, fasteners, docker-pycreds, zarr, gitdb, GitPython, wandb\n",
            "Successfully installed GitPython-3.1.43 asciitree-0.3.3 docker-pycreds-0.4.0 fasteners-0.19 gitdb-4.0.11 numcodecs-0.12.1 sentry-sdk-1.45.0 setproctitle-1.3.3 smmap-5.0.1 wandb-0.16.6 zarr-2.17.2\n"
          ]
        }
      ],
      "source": [
        "!pip install tensorly\n",
        "!pip install torch-harmonics\n",
        "!pip install neuraloperator\n",
        "!pip install gpustat\n",
        "!pip install gdown\n",
        "!pip install opt-einsum\n",
        "!pip install h5py wandb ruamel.yaml zarr"
      ]
    },
    {
      "cell_type": "markdown",
      "id": "f4ed3b9d-fffd-4d5d-852c-7dc95dad086f",
      "metadata": {
        "id": "f4ed3b9d-fffd-4d5d-852c-7dc95dad086f"
      },
      "source": [
        "# Prepare data"
      ]
    },
    {
      "cell_type": "code",
      "execution_count": 2,
      "id": "3a2484ab-0f02-45c9-acce-cb0bbe803dbb",
      "metadata": {
        "id": "3a2484ab-0f02-45c9-acce-cb0bbe803dbb"
      },
      "outputs": [],
      "source": [
        "import os\n",
        "import requests\n",
        "import hashlib\n",
        "url_dict = {\n",
        "    'darcyflow-1':'https://caltech-pde-data.s3.us-west-2.amazonaws.com/piececonst_r241_N1024_smooth1.mat',\n",
        "    'darcyflow-2': 'https://caltech-pde-data.s3.us-west-2.amazonaws.com/piececonst_r241_N1024_smooth2.mat',\n",
        "    'Navier-Stokes': 'https://caltech-pde-data.s3.us-west-2.amazonaws.com/ns_V1e-3_N5000_T50.mat',\n",
        "    'darcy-test-32': 'https://caltech-pde-data.s3.us-west-2.amazonaws.com/darcy_test_32.pt',\n",
        "    'darcy-test-64': 'https://caltech-pde-data.s3.us-west-2.amazonaws.com/darcy_test_64.pt',\n",
        "    'darcy-train-32': 'https://caltech-pde-data.s3.us-west-2.amazonaws.com/darcy_train_32.pt',\n",
        "    'darcy-train-64': 'https://caltech-pde-data.s3.us-west-2.amazonaws.com/darcy_train_64.pt',\n",
        "    'KF-Re100': 'https://caltech-pde-data.s3.us-west-2.amazonaws.com/KFvorticity_Re100_N50_T500.npy'\n",
        "}\n",
        "\n",
        "chksum_dict = {\n",
        "    'piececonst_r241_N1024_smooth1.mat': '5ab3edf67bb5fd6d49ebf308cd79ed70340106d1a18af8a8439d3e7fc8e82d21',\n",
        "    'piececonst_r241_N1024_smooth2.mat': '51a818ed2e4f08752eea5d3f137f0e00271589c48297a46c641382a51eb80acf',\n",
        "    'ns_V1e-3_N5000_T50.mat': '78b8d9e83d767dc7050fb8145ee7e7f11e2d18d325bff9abc7f108ec3292ee78',\n",
        "    'darcy_train_64.pt': 'c05770239c91ebf093ea971e4d724008a49c9f21b5363fcf182e80499fae7fb4',\n",
        "    'darcy_train_32.pt': 'b8d8095d3832ed67f55b4a8fcb1970618b4ca2c6fc91aee2fe49b9c9b2c071ae',\n",
        "    'darcy_test_64.pt': '2220bb25c920109e9565a7fc07b675de16d124d563996f6e7256e2faa1fde24f',\n",
        "    'darcy_test_32.pt': '65137910193a553295c26e3d8273761daa44766597f4b34cfb12299fc6e3f311',\n",
        "    'KFvorticity_Re100_N50_T500.npy': '55f5af44a732a7843d631ace6384ac75c787d4fb36765b2e83ce1febb52d5463'\n",
        "}\n",
        "\n",
        "def download_file(url, file_path):\n",
        "    with requests.get(url, stream=True) as r:\n",
        "        r.raise_for_status()\n",
        "        with open(file_path, 'wb') as f:\n",
        "            for chunk in r.iter_content(chunk_size=1024 * 1024 * 1024):\n",
        "                f.write(chunk)\n",
        "    print('Complete')\n"
      ]
    },
    {
      "cell_type": "markdown",
      "id": "d36ba93d",
      "metadata": {
        "id": "d36ba93d"
      },
      "source": [
        "## Download Darcy datasets"
      ]
    },
    {
      "cell_type": "code",
      "execution_count": 3,
      "id": "70b2c9d0-990d-43fd-9a80-7af9dbc8dd64",
      "metadata": {
        "id": "70b2c9d0-990d-43fd-9a80-7af9dbc8dd64",
        "colab": {
          "base_uri": "https://localhost:8080/"
        },
        "outputId": "b5a2cfb6-0a34-44db-b466-a694c5d62c92"
      },
      "outputs": [
        {
          "output_type": "stream",
          "name": "stdout",
          "text": [
            "Downloading https://caltech-pde-data.s3.us-west-2.amazonaws.com/darcy_train_64.pt...\n",
            "Complete\n",
            "Downloading https://caltech-pde-data.s3.us-west-2.amazonaws.com/darcy_train_32.pt...\n",
            "Complete\n",
            "Downloading https://caltech-pde-data.s3.us-west-2.amazonaws.com/darcy_test_64.pt...\n",
            "Complete\n",
            "Downloading https://caltech-pde-data.s3.us-west-2.amazonaws.com/darcy_test_32.pt...\n",
            "Complete\n"
          ]
        }
      ],
      "source": [
        "data_root = 'data'\n",
        "darcy_dir = os.path.join(data_root, 'darcy_flow')\n",
        "os.makedirs(darcy_dir, exist_ok=True)\n",
        "\n",
        "day1_data = ['darcy-train-64', 'darcy-train-32', 'darcy-test-64', 'darcy-test-32']\n",
        "\n",
        "for key in day1_data:\n",
        "    value = url_dict[key]\n",
        "    print(f'Downloading {value}...')\n",
        "    filename = os.path.basename(value)\n",
        "    save_path = os.path.join(darcy_dir, filename)\n",
        "    download_file(url=value, file_path=save_path)\n"
      ]
    },
    {
      "cell_type": "code",
      "execution_count": 4,
      "id": "db98503a",
      "metadata": {
        "id": "db98503a",
        "colab": {
          "base_uri": "https://localhost:8080/"
        },
        "outputId": "77095ee6-c06f-47b6-c95f-96a437ab165b"
      },
      "outputs": [
        {
          "output_type": "stream",
          "name": "stdout",
          "text": [
            "darcy_test_64.pt verified!\n",
            "darcy_test_32.pt verified!\n",
            "darcy_train_32.pt verified!\n",
            "darcy_train_64.pt verified!\n"
          ]
        }
      ],
      "source": [
        "# verify data integrity\n",
        "for data_file in os.listdir(darcy_dir):\n",
        "    data_path = os.path.join(darcy_dir, data_file)\n",
        "    with open(data_path, 'rb') as f:\n",
        "        data = f.read()\n",
        "        sha256 = hashlib.sha256(data).hexdigest()\n",
        "        if sha256 == chksum_dict[data_file]:\n",
        "            print(f'{data_file} verified!')\n",
        "        else:\n",
        "            print(f'{data_file} verfication failed!')"
      ]
    },
    {
      "cell_type": "markdown",
      "id": "6a5cc551",
      "metadata": {
        "id": "6a5cc551"
      },
      "source": [
        "### Download KF datasets (2d NS)"
      ]
    },
    {
      "cell_type": "code",
      "execution_count": 5,
      "id": "817f3d48",
      "metadata": {
        "id": "817f3d48",
        "colab": {
          "base_uri": "https://localhost:8080/"
        },
        "outputId": "784cc542-ee78-4181-f2c6-e331d1857f43"
      },
      "outputs": [
        {
          "output_type": "stream",
          "name": "stdout",
          "text": [
            "Downloading https://caltech-pde-data.s3.us-west-2.amazonaws.com/KFvorticity_Re100_N50_T500.npy to data/kf\n",
            "Complete\n"
          ]
        }
      ],
      "source": [
        "data_root = 'data'\n",
        "kf_dir = os.path.join(data_root, 'kf')\n",
        "os.makedirs(kf_dir, exist_ok=True)\n",
        "\n",
        "kf_data = ['KF-Re100']\n",
        "for key in kf_data:\n",
        "    value = url_dict[key]\n",
        "    print(f'Downloading {value} to {kf_dir}')\n",
        "    filename = os.path.basename(value)\n",
        "    save_path = os.path.join(kf_dir, filename)\n",
        "    download_file(url=value, file_path=save_path)"
      ]
    },
    {
      "cell_type": "code",
      "execution_count": 6,
      "id": "73acfd3d-23d4-4f02-9bc7-167438ac2de4",
      "metadata": {
        "colab": {
          "base_uri": "https://localhost:8080/"
        },
        "id": "73acfd3d-23d4-4f02-9bc7-167438ac2de4",
        "outputId": "f63b45c9-5218-4f03-8041-e8d05924361a"
      },
      "outputs": [
        {
          "output_type": "stream",
          "name": "stdout",
          "text": [
            "KFvorticity_Re100_N50_T500.npy verified!\n"
          ]
        }
      ],
      "source": [
        "for data_file in os.listdir(kf_dir):\n",
        "    data_path = os.path.join(kf_dir, data_file)\n",
        "    with open(data_path, 'rb') as f:\n",
        "        data = f.read()\n",
        "        sha256 = hashlib.sha256(data).hexdigest()\n",
        "        if sha256 == chksum_dict[data_file]:\n",
        "            print(f'{data_file} verified!')\n",
        "        else:\n",
        "            print(f'{data_file} verfication failed!')\n"
      ]
    },
    {
      "cell_type": "markdown",
      "id": "59194c45-83c9-4a77-a1b0-185eca26afd5",
      "metadata": {
        "id": "59194c45-83c9-4a77-a1b0-185eca26afd5"
      },
      "source": [
        "# Check the dependencies"
      ]
    },
    {
      "cell_type": "code",
      "execution_count": 7,
      "id": "af7a5c4c-b3a5-4f32-aee9-55290566ff56",
      "metadata": {
        "colab": {
          "base_uri": "https://localhost:8080/"
        },
        "id": "af7a5c4c-b3a5-4f32-aee9-55290566ff56",
        "outputId": "deb7b49a-b7ed-49c0-98cf-40a2370b99ee"
      },
      "outputs": [
        {
          "output_type": "stream",
          "name": "stdout",
          "text": [
            "tl.__version__='0.8.1'\n",
            "no.__version__='0.3.0'\n"
          ]
        }
      ],
      "source": [
        "import tensorly as tl\n",
        "import neuralop as no\n",
        "\n",
        "print(f'{tl.__version__=}')\n",
        "# print(f'{tltorch.__version__=}')\n",
        "print(f'{no.__version__=}')"
      ]
    },
    {
      "cell_type": "markdown",
      "id": "a36bb3e2-c158-497c-babe-5eead700cbf1",
      "metadata": {
        "id": "a36bb3e2-c158-497c-babe-5eead700cbf1",
        "tags": []
      },
      "source": [
        "# FFT and Spectral Convolution\n"
      ]
    },
    {
      "cell_type": "code",
      "execution_count": 8,
      "id": "4efa0d7f-e39c-496e-891d-6b34c62fbd9d",
      "metadata": {
        "id": "4efa0d7f-e39c-496e-891d-6b34c62fbd9d"
      },
      "outputs": [],
      "source": [
        "from neuralop.layers.spectral_convolution import SpectralConv\n",
        "from neuralop.models import TFNO2d\n",
        "import torch"
      ]
    },
    {
      "cell_type": "code",
      "execution_count": 9,
      "id": "2c8c3eb7-82e1-4df7-b6e6-3f34331637c4",
      "metadata": {
        "id": "2c8c3eb7-82e1-4df7-b6e6-3f34331637c4"
      },
      "outputs": [],
      "source": [
        "fourier_conv = SpectralConv(in_channels=3, out_channels=10, n_modes=(4, 4),\n",
        "                                      factorization='tucker', implementation='reconstructed')"
      ]
    },
    {
      "cell_type": "code",
      "execution_count": 10,
      "id": "4eaf645a-b7f5-4dcc-b8de-fb388ccc9b26",
      "metadata": {
        "id": "4eaf645a-b7f5-4dcc-b8de-fb388ccc9b26"
      },
      "outputs": [],
      "source": [
        "in_data = torch.randn((2, 3, 16, 16))"
      ]
    },
    {
      "cell_type": "code",
      "execution_count": 11,
      "id": "016b33e0-88a6-4215-99e0-19da4f8fd5f5",
      "metadata": {
        "id": "016b33e0-88a6-4215-99e0-19da4f8fd5f5"
      },
      "outputs": [],
      "source": [
        "out = fourier_conv(in_data)"
      ]
    },
    {
      "cell_type": "code",
      "execution_count": 12,
      "id": "36d0f546-9fa9-4936-a6b6-19d7bde03639",
      "metadata": {
        "colab": {
          "base_uri": "https://localhost:8080/"
        },
        "id": "36d0f546-9fa9-4936-a6b6-19d7bde03639",
        "outputId": "bc07ed63-3855-40e3-a30b-9abfef5d6252"
      },
      "outputs": [
        {
          "output_type": "execute_result",
          "data": {
            "text/plain": [
              "torch.Size([2, 10, 16, 16])"
            ]
          },
          "metadata": {},
          "execution_count": 12
        }
      ],
      "source": [
        "out.shape"
      ]
    },
    {
      "cell_type": "code",
      "execution_count": 13,
      "id": "4936746b-5abb-4a8b-9e74-238502c65930",
      "metadata": {
        "colab": {
          "base_uri": "https://localhost:8080/"
        },
        "id": "4936746b-5abb-4a8b-9e74-238502c65930",
        "outputId": "123c2655-5e96-46c9-9e26-50c2578736e1"
      },
      "outputs": [
        {
          "output_type": "execute_result",
          "data": {
            "text/plain": [
              "SpectralConv(\n",
              "  (weight): ModuleList(\n",
              "    (0): ComplexTuckerTensor(shape=(3, 10, 4, 3), rank=(2, 7, 3, 2))\n",
              "  )\n",
              ")"
            ]
          },
          "metadata": {},
          "execution_count": 13
        }
      ],
      "source": [
        "fourier_conv"
      ]
    },
    {
      "cell_type": "markdown",
      "id": "a616d68d-677a-4e6f-abd5-9e631ebf7fb6",
      "metadata": {
        "id": "a616d68d-677a-4e6f-abd5-9e631ebf7fb6"
      },
      "source": [
        "The way the spectral convolution works is that it multiplies (complex) coefficients with (complex) weights, learned end-to-end."
      ]
    },
    {
      "cell_type": "markdown",
      "id": "0c8d9860-d43d-47f3-a6aa-c7ed4522684e",
      "metadata": {
        "id": "0c8d9860-d43d-47f3-a6aa-c7ed4522684e",
        "tags": []
      },
      "source": [
        "# Tensorized Spectral Convolutions\n",
        "\n",
        "It is possible to express the weights of one or more layers as in factorized form, as a low-rank decomposition of the full weights.\n",
        "\n",
        "`neuralop` comes with support for tensorization out of the box, you can simply specify, e.g., to use a Tucker factorization, `factorization='tucker'`."
      ]
    },
    {
      "cell_type": "code",
      "execution_count": 14,
      "id": "b3f919de-97c2-4f0b-bb40-8e47cd2c1e0e",
      "metadata": {
        "id": "b3f919de-97c2-4f0b-bb40-8e47cd2c1e0e"
      },
      "outputs": [],
      "source": [
        "fourier_conv = SpectralConv(in_channels=3, out_channels=10, n_modes=(4, 4),\n",
        "                                      factorization='tucker', implementation='reconstructed')"
      ]
    },
    {
      "cell_type": "code",
      "execution_count": 15,
      "id": "91a7aa04-9cc3-4f8c-b34f-54fbc625b718",
      "metadata": {
        "colab": {
          "base_uri": "https://localhost:8080/"
        },
        "id": "91a7aa04-9cc3-4f8c-b34f-54fbc625b718",
        "outputId": "cc0f8a05-2bb1-41f6-bc8d-56d9d5c19592"
      },
      "outputs": [
        {
          "output_type": "execute_result",
          "data": {
            "text/plain": [
              "SpectralConv(\n",
              "  (weight): ModuleList(\n",
              "    (0): ComplexTuckerTensor(shape=(3, 10, 4, 3), rank=(2, 7, 3, 2))\n",
              "  )\n",
              ")"
            ]
          },
          "metadata": {},
          "execution_count": 15
        }
      ],
      "source": [
        "fourier_conv"
      ]
    },
    {
      "cell_type": "markdown",
      "id": "f8df876d-72e1-40cd-9a86-330a57dc0e8d",
      "metadata": {
        "id": "f8df876d-72e1-40cd-9a86-330a57dc0e8d"
      },
      "source": [
        "## Efficient forward pass\n",
        "\n",
        "When factorizing the weights, have two main options during the forward pass:\n",
        "1. reconstruct the full weights and use that for the forward pass\n",
        "2. contract the input directly with the factorized weights to predict the output\n",
        "\n",
        "When the factorized weights are small, the second option can lead to large speedups or memory reduction, particularly when coupled with checkpointing.\n",
        "\n",
        "In `neuralop`, you can use those simply by specifying `implementation='reconstructed'` or `implementation='factorized'`:"
      ]
    },
    {
      "cell_type": "code",
      "execution_count": 16,
      "id": "a0667a6b-1efe-47e0-8908-29c5fb0cf45a",
      "metadata": {
        "id": "a0667a6b-1efe-47e0-8908-29c5fb0cf45a"
      },
      "outputs": [],
      "source": [
        "fourier_conv = SpectralConv(in_channels=3, out_channels=10, n_modes=(4, 4),\n",
        "                                      factorization='tucker', implementation='factorized')"
      ]
    },
    {
      "cell_type": "markdown",
      "id": "ec3ab24a-09fe-4864-b2ed-e96b54792e9f",
      "metadata": {
        "id": "ec3ab24a-09fe-4864-b2ed-e96b54792e9f"
      },
      "source": [
        "# Full Tensorized Fourier Neural Operator\n",
        "\n",
        "The full architecture is composed of\n",
        "\n",
        "i) a lifting layer taking the number of input channels and lifting that to the desired number of hidden channels\n",
        "ii) a number of spectral convolutions, as shown above\n",
        "iii) a projection layer projecting back from the number of hidden channels to the desired number of output channels\n"
      ]
    },
    {
      "cell_type": "code",
      "execution_count": 17,
      "id": "d51aec17-2cf4-40c4-9452-84a4b5259db6",
      "metadata": {
        "id": "d51aec17-2cf4-40c4-9452-84a4b5259db6"
      },
      "outputs": [],
      "source": [
        "tfno = TFNO2d(n_modes_height=16, n_modes_width=16, hidden_channels=16,\n",
        "              factorization=None, skip='linear')"
      ]
    },
    {
      "cell_type": "code",
      "execution_count": 18,
      "id": "c87127e5-d24c-4096-be3a-8872a853a132",
      "metadata": {
        "id": "c87127e5-d24c-4096-be3a-8872a853a132",
        "colab": {
          "base_uri": "https://localhost:8080/"
        },
        "outputId": "fb1db21e-b9e7-4f9e-904c-b1d50c73039d"
      },
      "outputs": [
        {
          "output_type": "execute_result",
          "data": {
            "text/plain": [
              "TFNO2d(\n",
              "  (fno_blocks): FNOBlocks(\n",
              "    (convs): SpectralConv(\n",
              "      (weight): ModuleList(\n",
              "        (0-3): 4 x ComplexDenseTensor(shape=torch.Size([16, 16, 16, 9]), rank=None)\n",
              "      )\n",
              "    )\n",
              "    (fno_skips): ModuleList(\n",
              "      (0-3): 4 x Conv2d(16, 16, kernel_size=(1, 1), stride=(1, 1), bias=False)\n",
              "    )\n",
              "  )\n",
              "  (lifting): MLP(\n",
              "    (fcs): ModuleList(\n",
              "      (0): Conv2d(3, 256, kernel_size=(1, 1), stride=(1, 1))\n",
              "      (1): Conv2d(256, 16, kernel_size=(1, 1), stride=(1, 1))\n",
              "    )\n",
              "  )\n",
              "  (projection): MLP(\n",
              "    (fcs): ModuleList(\n",
              "      (0): Conv2d(16, 256, kernel_size=(1, 1), stride=(1, 1))\n",
              "      (1): Conv2d(256, 1, kernel_size=(1, 1), stride=(1, 1))\n",
              "    )\n",
              "  )\n",
              ")"
            ]
          },
          "metadata": {},
          "execution_count": 18
        }
      ],
      "source": [
        "tfno"
      ]
    },
    {
      "cell_type": "markdown",
      "id": "0e70efec-bf3c-48ac-b53a-59800055f1b9",
      "metadata": {
        "id": "0e70efec-bf3c-48ac-b53a-59800055f1b9"
      },
      "source": [
        "## Lifting layer\n",
        "\n",
        "Increasing the number of channels"
      ]
    },
    {
      "cell_type": "code",
      "execution_count": 19,
      "id": "1deead74-bd3d-4aa9-8d2c-cfd9ab0763d7",
      "metadata": {
        "id": "1deead74-bd3d-4aa9-8d2c-cfd9ab0763d7",
        "colab": {
          "base_uri": "https://localhost:8080/"
        },
        "outputId": "a676bbb8-9aff-45dc-b0e1-bc2fcd39404d"
      },
      "outputs": [
        {
          "output_type": "execute_result",
          "data": {
            "text/plain": [
              "MLP(\n",
              "  (fcs): ModuleList(\n",
              "    (0): Conv2d(3, 256, kernel_size=(1, 1), stride=(1, 1))\n",
              "    (1): Conv2d(256, 16, kernel_size=(1, 1), stride=(1, 1))\n",
              "  )\n",
              ")"
            ]
          },
          "metadata": {},
          "execution_count": 19
        }
      ],
      "source": [
        "tfno.lifting"
      ]
    },
    {
      "cell_type": "markdown",
      "id": "08844bac-9335-4ac4-afc8-f1d67c3e31bb",
      "metadata": {
        "id": "08844bac-9335-4ac4-afc8-f1d67c3e31bb"
      },
      "source": [
        "## Spectral convolutions"
      ]
    },
    {
      "cell_type": "code",
      "execution_count": 20,
      "id": "f2bc28dc-1226-4ed3-b757-3c42357d276a",
      "metadata": {
        "colab": {
          "base_uri": "https://localhost:8080/"
        },
        "id": "f2bc28dc-1226-4ed3-b757-3c42357d276a",
        "outputId": "92f4c42f-301d-4741-ab65-9d4960877fb5"
      },
      "outputs": [
        {
          "output_type": "execute_result",
          "data": {
            "text/plain": [
              "SpectralConv(\n",
              "  (weight): ModuleList(\n",
              "    (0-3): 4 x ComplexDenseTensor(shape=torch.Size([16, 16, 16, 9]), rank=None)\n",
              "  )\n",
              ")"
            ]
          },
          "metadata": {},
          "execution_count": 20
        }
      ],
      "source": [
        "tfno.fno_blocks.convs"
      ]
    },
    {
      "cell_type": "markdown",
      "id": "1c7d9882-13db-447d-affd-07ef17256e1c",
      "metadata": {
        "id": "1c7d9882-13db-447d-affd-07ef17256e1c"
      },
      "source": [
        "## Skip connections: recovering non-periodicity\n",
        "\n",
        "Recall the FNO architecture has skip connections: the FFT transformation will loose non-periodic information that has to be reinjected through skip connections. These skip connections also help with learning.\n",
        "\n",
        "![FNO_layer](./images/fourier_layer.png)\n",
        "\n",
        "Here, linear layer (represented by weight W in the image). We can also use Identity skip (`skip='identity'`) or soft-gated connections (`skip='soft-gating'`)"
      ]
    },
    {
      "cell_type": "code",
      "execution_count": 21,
      "id": "f063e3bf-34e5-4d7f-83f9-b3522aa6430b",
      "metadata": {
        "id": "f063e3bf-34e5-4d7f-83f9-b3522aa6430b",
        "colab": {
          "base_uri": "https://localhost:8080/"
        },
        "outputId": "8bcbf0a3-473f-4319-aac5-d6b36907537f"
      },
      "outputs": [
        {
          "output_type": "execute_result",
          "data": {
            "text/plain": [
              "ModuleList(\n",
              "  (0-3): 4 x Conv2d(16, 16, kernel_size=(1, 1), stride=(1, 1), bias=False)\n",
              ")"
            ]
          },
          "metadata": {},
          "execution_count": 21
        }
      ],
      "source": [
        "tfno.fno_blocks.fno_skips"
      ]
    },
    {
      "cell_type": "markdown",
      "id": "070e930e-38b6-4d3c-b62a-3ca700294c99",
      "metadata": {
        "id": "070e930e-38b6-4d3c-b62a-3ca700294c99"
      },
      "source": [
        "## Projection: going back to the target number of channels\n",
        "\n",
        "Finally, the projection layer takes the hidden dimension to projection_channels and to the actual number of output channels (here, 1)"
      ]
    },
    {
      "cell_type": "code",
      "execution_count": 22,
      "id": "88344f47-a7e8-458e-9fbb-775804fbbaad",
      "metadata": {
        "id": "88344f47-a7e8-458e-9fbb-775804fbbaad",
        "colab": {
          "base_uri": "https://localhost:8080/"
        },
        "outputId": "3a4e8edc-5b22-46ce-e28b-9ebc25913887"
      },
      "outputs": [
        {
          "output_type": "execute_result",
          "data": {
            "text/plain": [
              "MLP(\n",
              "  (fcs): ModuleList(\n",
              "    (0): Conv2d(16, 256, kernel_size=(1, 1), stride=(1, 1))\n",
              "    (1): Conv2d(256, 1, kernel_size=(1, 1), stride=(1, 1))\n",
              "  )\n",
              ")"
            ]
          },
          "metadata": {},
          "execution_count": 22
        }
      ],
      "source": [
        "tfno.projection"
      ]
    },
    {
      "cell_type": "code",
      "execution_count": 23,
      "id": "4df7dcda-a364-4255-9339-a9a09c2a5e34",
      "metadata": {
        "id": "4df7dcda-a364-4255-9339-a9a09c2a5e34"
      },
      "outputs": [],
      "source": [
        "from pathlib import Path\n",
        "from neuralop.datasets import load_darcy_pt"
      ]
    },
    {
      "cell_type": "markdown",
      "id": "ff12d431-bde9-4eba-906b-d0faea8c49fb",
      "metadata": {
        "id": "ff12d431-bde9-4eba-906b-d0faea8c49fb"
      },
      "source": [
        "# Load the data"
      ]
    },
    {
      "cell_type": "code",
      "execution_count": 24,
      "id": "aa9c49f5-878b-4cac-9a35-b9dc53085d11",
      "metadata": {
        "id": "aa9c49f5-878b-4cac-9a35-b9dc53085d11"
      },
      "outputs": [],
      "source": [
        "data_path=darcy_dir"
      ]
    },
    {
      "cell_type": "code",
      "execution_count": 25,
      "id": "f40e8c0a-c031-457b-863c-c728de7d1b80",
      "metadata": {
        "id": "f40e8c0a-c031-457b-863c-c728de7d1b80"
      },
      "outputs": [],
      "source": [
        "train_loader, test_loaders, data_processor = load_darcy_pt(data_path, n_train=100, n_tests=[10],\n",
        "              batch_size=3, test_batch_sizes=[3],\n",
        "              test_resolutions=[32], train_resolution=32)"
      ]
    },
    {
      "cell_type": "code",
      "execution_count": 26,
      "id": "2f29d90a-4fc7-4b83-8ed4-f1bb4dce2574",
      "metadata": {
        "id": "2f29d90a-4fc7-4b83-8ed4-f1bb4dce2574"
      },
      "outputs": [],
      "source": [
        "train_dataset = train_loader.dataset"
      ]
    },
    {
      "cell_type": "markdown",
      "id": "21000189-ecac-42e2-b008-06eefa7b1710",
      "metadata": {
        "id": "21000189-ecac-42e2-b008-06eefa7b1710"
      },
      "source": [
        "# Visualizing the data  "
      ]
    },
    {
      "cell_type": "markdown",
      "id": "1cf47f09-1fb3-4667-9b04-a98b3ee8d08d",
      "metadata": {
        "id": "1cf47f09-1fb3-4667-9b04-a98b3ee8d08d"
      },
      "source": [
        "The data is stored in a dictionary"
      ]
    },
    {
      "cell_type": "code",
      "execution_count": 27,
      "id": "b6a9aed5-6532-42ba-8131-0307460c960d",
      "metadata": {
        "id": "b6a9aed5-6532-42ba-8131-0307460c960d"
      },
      "outputs": [],
      "source": [
        "data = train_dataset[0]\n",
        "x = data['x']\n",
        "y = data['y']"
      ]
    },
    {
      "cell_type": "code",
      "execution_count": 28,
      "id": "9f475172-62b0-4ce3-8dce-a7d0d9dca9fb",
      "metadata": {
        "colab": {
          "base_uri": "https://localhost:8080/"
        },
        "id": "9f475172-62b0-4ce3-8dce-a7d0d9dca9fb",
        "outputId": "e705cbc7-f6c6-460f-cab9-a4ef638ac11e"
      },
      "outputs": [
        {
          "output_type": "execute_result",
          "data": {
            "text/plain": [
              "torch.Size([1, 32, 32])"
            ]
          },
          "metadata": {},
          "execution_count": 28
        }
      ],
      "source": [
        "x.shape"
      ]
    },
    {
      "cell_type": "markdown",
      "id": "7d7947ad-f98c-414b-8a12-64270988ad1f",
      "metadata": {
        "id": "7d7947ad-f98c-414b-8a12-64270988ad1f"
      },
      "source": [
        "`x` is of shape (1, height, width).\n",
        "\n",
        "After preprocessing, it becomes shape (3, height, width).\n",
        "\n",
        "This is because, in addition to the binary input, we appended a positional encoding, so the model knows the location of each pixel.\n",
        "\n",
        "Let's check the actual data:"
      ]
    },
    {
      "cell_type": "code",
      "execution_count": 29,
      "id": "077ebd7d-883b-4300-b13d-ed88813a3be1",
      "metadata": {
        "id": "077ebd7d-883b-4300-b13d-ed88813a3be1"
      },
      "outputs": [],
      "source": [
        "%matplotlib inline\n",
        "import matplotlib.pyplot as plt"
      ]
    },
    {
      "cell_type": "code",
      "execution_count": 30,
      "id": "814a044d-a52f-4cf2-aa1b-859370012af5",
      "metadata": {
        "colab": {
          "base_uri": "https://localhost:8080/",
          "height": 725
        },
        "id": "814a044d-a52f-4cf2-aa1b-859370012af5",
        "outputId": "5f6664f9-9e53-46ca-e9a6-4760ee938362"
      },
      "outputs": [
        {
          "output_type": "stream",
          "name": "stdout",
          "text": [
            "torch.Size([3, 32, 32])\n"
          ]
        },
        {
          "output_type": "display_data",
          "data": {
            "text/plain": [
              "<Figure size 700x700 with 4 Axes>"
            ],
            "image/png": "[encoded data removed]"
          },
          "metadata": {}
        }
      ],
      "source": [
        "# Which sample to view\n",
        "index = 10\n",
        "\n",
        "data = train_dataset[index]\n",
        "# add a batch dimension to both x and y for preprocessor\n",
        "data['x'] = data['x'].unsqueeze(0)\n",
        "data['y'] = data['y'].unsqueeze(0)\n",
        "\n",
        "# preprocessing is normally done during training\n",
        "data = data_processor.preprocess(data)\n",
        "\n",
        "# squeeze the batch dimension out of x and y for visualization\n",
        "x = data['x'].squeeze(0)\n",
        "print(x.shape)\n",
        "y = data['y'].squeeze(0)\n",
        "fig = plt.figure(figsize=(7, 7))\n",
        "ax = fig.add_subplot(2, 2, 1)\n",
        "ax.imshow(x[0], cmap='gray')\n",
        "ax.set_title('input x')\n",
        "ax = fig.add_subplot(2, 2, 2)\n",
        "ax.imshow(y.squeeze())\n",
        "ax.set_title('input y')\n",
        "ax = fig.add_subplot(2, 2, 3)\n",
        "ax.imshow(x[1])\n",
        "ax.set_title('x: 1st pos embedding')\n",
        "ax = fig.add_subplot(2, 2, 4)\n",
        "ax.imshow(x[2])\n",
        "ax.set_title('x: 2nd pos embedding')\n",
        "fig.suptitle('Visualizing one input sample', y=0.98)\n",
        "plt.tight_layout()\n",
        "fig.show()"
      ]
    },
    {
      "cell_type": "code",
      "execution_count": 51,
      "id": "012a357f-8533-482c-823d-a4587c49e726",
      "metadata": {
        "id": "012a357f-8533-482c-823d-a4587c49e726"
      },
      "outputs": [],
      "source": [
        "import torch\n",
        "import wandb\n",
        "import sys\n",
        "from configmypy import ConfigPipeline, YamlConfig, ArgparseConfig\n",
        "from neuralop import get_model\n",
        "from neuralop import Trainer\n",
        "from neuralop.training import setup\n",
        "from neuralop.datasets import load_darcy_pt\n",
        "from neuralop.utils import get_wandb_api_key, count_model_params\n",
        "from neuralop import LpLoss, H1Loss"
      ]
    },
    {
      "cell_type": "markdown",
      "source": [
        "### Downloading the configuration\n",
        "\n",
        "Go to: https://github.com/neuraloperator/neuraloperator/blob/main/config/darcy_config.yaml and download the config file. Make the following changes:\n",
        "\n",
        "\n",
        "\n",
        "1.   Add an option called folder under the data key. The path should be the path to the darcy flow in your home directory. On colab it should just be: /content/data/darcy_flow.\n",
        "2.  Change the training resolution to 32 and the test resolutions to 32 and 64. It should just look like this below.\n",
        "3. Under the tfno key, change the data channels to 1 as we have only the data in black and white and not RGB.\n",
        "\n",
        "![config-change.png](data:image/png;base64,iVBORw0KGgoAAAANSUhEUgAAAXoAAAEyCAYAAAD0qxuRAAAAAXNSR0IArs4c6QAAAARnQU1BAACxjwv8YQUAAAAJcEhZcwAADsMAAA7DAcdvqGQAAD8OSURBVHhe7d1vbBRXmi/+79yV5r6gm860PR17gpsYYa+zY65pEFwmEGLMNR6PiM1k2loihOOgsKwQq8go+KW5yUscGY0mQssSJZgITVZAAgRdL1jYhECC8MWNb8jFY2cxtJkx8do9abrZF/vT3vm9qD996lT1P7vdri6+H6kluqu66nQ1furUU6fP86PlL/y3v4CIiBzrv8gvEBGRszDQExE53I+YunkalWJl41o8qz+fxO3em/jesI4NLKrEho0vID50Drdt1ziiwvFX3p8++z/lF7OxaHkd/rt3GuHIfwDPrkXDxucQ/+6PeCKvmFQpVjZuRk1FFZYLD3fsD3iU+UYMng00Y0PlX/DowQz+P3nhArFXm+J49N0f8K/f/QGP8Bz8Rf+BR1l9Z5Jn16Jh41/jL5Pj+HMuP9yPi+Bf+lP8x+Ts/y8QUQ5SNy63W//3IrcLePID4oY1MvP90Dlc7FUfV+/CtaoZDYFSeTUiIsrSnAM9AMRjMfmluXkyimtDk0DJWqxM5BeIiGgWZp2jfzbQjJUl8qsJT8b6ce27TE4ASr4Ypjysmkd+dBMXQ5PG14S1vtffZ14mktuzaHkdNlQkrkbw5C6uXR01pi+eXYuGVcarisT+NG4s21iHikXa8xjGrvbj3hNk3aZ0Fi2vw4afPcS1qzFUCNs1bUfNbetNsvpsKuU4xJPk6OXPZtxXyv8D8j4zapN5f7A85kSUjVkHeoUYpJU/0p/9KbvglTzQq3/00AKCG8s2voAnVxMBSQlSEAKr4tlAM1a6rQKJ6tm12OC+K7TT4qSS0Y1A5X0uMdA+uxYNq1zZtykD4slJD37y/uTnafadKtA/G6jDolHhc6gnPlPgtdingcVyc5tm+x0QUTo5SN3E8Hg2SfmsxXBPCPIA8GTyIZ7AjcUu4cVMfH9TOhlNYvIRALc70eN0PYNFaT7bouUv4NkndxESt/X9XYw9ceNnpcLVQk7FMHZVCHzxH4Rj4Mayvy7Fk7FBQ8D9fvQunixagmelnnI634ekwP39BL6X7sukl1mbFi1/Ac9iErf1qzciypW5BfpFbiRirAuLF81Dvj4WS/RCn12LhsbmxENMBWTFjWUbhe00WqQg1IBdoa5nda/A5XYDi17ABrFNjUrqYZE727NPpuJ4IgbfJ6O41qsFfuU7WFRRZ3GcZnFCXFQpfbbkaajkMmuTy+0GHiknEiLKrdkNr1xUiQ3/YwNeWPpT/Bj/FUVLq7C84jm4ALhKq7C8wpPFEEs3SiqeA0xD6Iqw9G+ew48m/5AYurmqFE/G+jFw8//gX7/7A/518i8otRh+5yqtQsl/nUbYciijlgeexO3efgyrwwzjbvk9/4E/P0gs04Z9luJPSnu0/fzoLq5d/gp31e3oj0fGS4HUbcrMj73laYZCKsfyR+IxEh5WQxSTblPLqT+6iYtf/m91G4/hrngOP46M68cAAOB6DstLf4zIA6vhlZm1yVVahRL80XjcOLySKCdm16NXe5EXhyaVm2rqkMgnalrhokW+N1vKpXwMf5pUrhCUHvIkxrLK/1tRephPxu5m3MbvQ8qwz9uPgEU/K9WvIuKxGLDoGeGqZqHF8fhJjq4m1NTV2OhcUylZtElMnUFrAxHN1ewCvcrwx+t6BovktMIsaTcdxbzuk1gcgAuLtL98eRSHQAnAyXLS5sCTcvSIzo1FbmMq6cl3d/E9SrFyY6VlO0Sp25QrMdz7gzIsdcPybPLoFgy5f6QeQaSua31fIrM2ff+nSWDRC6jQdmAx4omIZmdOo24WLa/DBvddZZTEs2vRsAqWozdSswog1j/JNwbkGMau3sXijVYjduR1pSGI8kni0U1ci72gDl1URoGYhl+q6yWGemqs2i8OsUxI2aYMpBohY2AVJMXhjPLnF4htko/B90P9ePzXSUZWyfuUh0/Kyy3WMezvyV19GKnV90tEmZtToCciIvubU+qGiIjsj4GeiMjhGOiJiByOgZ6IyOEY6ImIHI6BnojI4RjoiYgcjoGeiMjhGOiJiByOgZ6IyOFyHOir0TDQjmC3T15AREQLJMeBfg5a6hAcaEdDh7yAiIjmwj6BnoiI5gUDPRGRw815muKKnnas9xtfi4dO4vT+Kf25t3sXmgIeYYVhnH+lHxGrZQYTuL7pNMb059VoGKiHOKv5ZO9hXDwkvAAACOK9z/4OAVccoX98FW+fkZcTET095hDofVj3+Q5UIRG0tUDsFgN9RxDBkqtC4FeDdbgPx1+/k9hcSx2Ce2sQswzcUPe3ETOvJAK/cpIARo58iBunxHUZ6ImINLNP3XRsRJUripETWpBP4tBpQ+8euIN7YQBeH7zCq+lN4YYQ5AEg8vV9xOGBp1x4EQBwGm//egs21zPIExHNOtB7SxYD8fsYNfSkrfiw7vN2tA0kHnKqJ2MdQcN22vbW2KgwNxGRPc060GdGTe+4JnB902EcVx/Xw/J6GegIoq2xDPHQSX07x48MIy6vR0REBnML9C4visTnLT4Yy2n74HEB8dBVQ8plNrwliwFMYNiQBiIionRmHeiV/HgZarRfwao3U42plClE44CrKPFLWatROgCAU1OIASj9ebW8BAAQefQYwGIUtagvWO5PE8R7n13C5b5P8d5v5GVERE+XWQd6nOrH6d4JuAI71Hy5F8ObTmLEkEuZwo0Tw4j76xP5efThfCgqrqS6g4tHjOu2DQRRoS0+dBrXwx5U7dXy88/j4ZE+TBo3QkREkjkMryQiokIw+x49EREVBAZ6IiKHY6AnInI4BnoiIodjoCcicrhZBXqX24P/8ld/Jb9MREQ2NKtAT0REhYOBnojI4RjoiYgcbla/jHW5Pfj3f4/j//3nf8qL5k6dpVInVKNKT5stU3setShKYq2ipx3rvdnsawG8eBRv7V6LZ+I3cfQfrmHV7/ZjjSuGwWMb8b++kldOKHnrKvYsv4uj/7AHj+SFpMvoOKnfwZ8vBXDi9/LCBfLiUby1+wWMpfx/cBCtH23DT25347e//VheWLBK3rqKPSuFqRTDZ/HOwXeA1z7FwS1CoQrt9fkyy7/NfLFXj76lDsHGMkz2JqY0Pp5V4J3CjVfU9/VOyAsL31d/wp8BIPInPMLHmMzowBzElpVujH+VInjlw4tH8dZHIbS+Ji+YJ699ioMfXcWvXpQXJJOH45R1mzITaFiLZ8KXbRFQ8uq1T7FnJTB4LIB33lAfWjD//avqa90YzMdc5rP628wfWwV67y+ehys+jEHLUoJkbRqTqf7AX6tBOcbxjV16n3ZVsMfpIFb4gfGReeyt2lSgqhyw9Qkuzd9mHtkq0BcVJSsSTlYmIzH5JclO/OrFcvxw+zOE5EUkKNzjVPLWZpTHb+JSwZ2g5monSrOrRZpX6f8288tWOfr0eXK1sLj+PEUOviOItsbFaZYL9wJgcT9AnvNeXq62B72HMViyC00B7UQ1geubjPVtF6RgebrcrZTH/MGUv92JX/1uP9YIk/6PG3LTyvKK77rxz9gt5ErHcf6NVxGyyqEaJNZTyPuTcpz65zkGvCasJ+RfA++E0GRV7wAA4jet8+8pj5PcJoXVcRDXEY9lVm2Sc8umYyRKHH+rvLvVfuXv2PT9WLYHOP/GZygVP6NFztu4P/G7U+4PlCd7jzfJ95KSeswj5m0apVtPbZv+3NxuWN6PSX3s7Wbhe/RCHdj1fgCuGjQJdWEbOtT1WuoQHKiHWygleD4EVO0V1smQt3uXehJIUd6wI6jOeS+sE6lB0+d1pqLmpY3taKq4j/ObDuP4ppMYiZdhfY91AZV8CjSsxTPxuxgyBS/lD/zglnKMX0rkN/8ZvxbyxwfR+pH6B6LlPy+No3xLCG+9tdOwrWdW7sce72V1vbMYRzma3jkIAHj0243K68du4gc1QOrbMwQwZX8V33UL+5vGmt1yTtuNNbv3o/irRJvg36bn/kMHhdcRM+ZvkwST5MfJ4hion0MUeGc38HthP5fG8czK/dm36cWjeKtqWDg+3RiMl6Ppd0dRIuxP99qvscYVw9igHGh24le/UwOovq2zGJfWwmuf4m9xTNjfWYy71mKP+t0llKNJ/G6O3cQPwjHX9+cfx3l9W8eABq3d7+DS7Rjgr0FA3KyWdsrivkjJW1dx8KMQDn6knnT829Tnoezvf7x4FG+pN6i1Y3D0NrBmt/Fe0k98xv/vimUodgF/npKPvT0tfKA/dNoYbOPDasBUHhfVfH3F1hq44sPoF0oJRvZfwEg8eVUqa9VYE/AgHrpg3dMHlNE7L5WZ1hm7MIy463lUalWuNOE+4abxFGYiALw+6YRwGm//egs21+epN5/qj+jFo/jblW78cLvb0FN59NtX9R5tyVubUY5xnBd7Qb9/FefDwDPLNxgDj6Gn9g6+CQPw/sw6OCWhpSD+Wewd/f4zDMbdqFhj/EMz9KZ/P4zxpH+MmUh+nCyPgYXQQelKYLZt+moPfmvY18cY+i4GuH4qXMUmJM1RqyeAwd+bP5PB71+VeqPJv7vxS4HEuuqNR+3zlby1Wx1hIp64P8b/OpjY/6PBu/gB5dgodBK045vNfRG946DdZA0LJ+E3rK7IklNO8Mb/c49+ewyDcaC86iCAe5gWbuSWvHUVB7WT7os/w08Qw/SDxHI7W/hAnxEfirxAfOyOlNKZwuhY1CKoptDigxtRPPw6Ve1ZpdatXj1Le+ytgQseeMQrawDxGeO2xl7PdrRQ7qX8I1r6UzwDq55gQqnXDYSHTSmD0Mh40sAzF6VeN+Baiz167yzRa3vGu0xePWdSHadkx8BEHVGUaLeYCshO4B1xO6Hkaa8Xj2JjkpuwJb5iwPIKRab0xMX9yakehRzQ3sGJNxKBv9TrTr+/r/bgqqGTsBOrlrsX8L6IkuP/4btr0slQPbl6f4YSdfSM8v9PaS9cL2CVftVgn5ut6RRIoF8YcSFNJD60qwz7Wug/olmKi6kG4ZGmRz17OThO2vhpQ8/SIk2SASXHbUztHL1tfVOvZM0LeGZON2G1+wpiuiWA83IKM4eUToIaKF/cgArXOK7aPL89GdGC/jIU4ybO34Zyhbn0p3hGXtnGCiTQK+kQV0W11HP3obLCA0Smsuw9y71y5YohwVzUvKC8uAEVlrlb1YN/ww9wo3ipvCBhMmKVU1XTBfF/y3mt3slI8hTFvEl3nGCRxpD/wNWro8GLcz0ZqaNIrFIxJuoJytQbFcjH8sWf4SficzXHPKeTnCrj705IxZWseQHIwb5nT+2ty2lIrece+RMeAXg0Na28/FoNfvLdNYQG7wLLNyDgK56Xv4P5UiCBHhj7dgJw1aCuOxF8vd1bUeWKYuTCHcO6KZ26g4dxoPQl7aaq/GtaKD+8+nIC8NcjKOxvboJ477NLuNz3Kd77jbwst9L+gEa9jC7fYrx5VfLWp/pzLaeq3VQFlJt3TUny2WmpeV0l92n26LeXlZu4yW48Zks9mcn5fVG646T0QNdii3ZjzjQixuqkKY/iEKRsk/ojG+HEYhoRo3nt11iTojdsyodrVx2GtZT8s5gWsxqlkwnr724nfvWO/F0qaZFnVu7HnpVIfYLNA+37/VvDfQP1foN24n7wb/jB9QL+9sVipb1fXcMY1mLjcu3HUYWhsIZXysMdTcMY5eGXgnAfjr+unRCM601qwyMr7hv3nXYIprIdd+gkTgs3ia3la3hlqiFhRnIgkYfemYOW/JNu66FrSYfMmQKOPHRQ3h+M+7ScfiDFT/vlwGwYOpjZcTIco/hNHP2HP2GL9D75OI5f6sb0i0mG3mXQJn1p/CaOfvVT7NkCw3EKvBNCE5INF1QZ9jOuD480tEn+PsJncTSy2TgNxGuf4uCW4gx+yi8PMZX/r2iSD7XMjvX/PY38nSRYDdnN4P+k8D1p2zb/vdiXrQI9zZ3yn3A6xdhrQiEfJ8uTXSHJ7ARLuVUwqRvKRA5uLj4VCvc4zf0m7ELaiV/9TunNM8jnF3v0RDS/xPRIkpRN8lSLQP7VLmWMgZ6IyOGYuiEicjgGeiIih2OgJyJyOAZ6IiKHY6AnInI4BnoiIodjoCcicjhbBPqKnna0WVRuWkgL0yYf1n0uVdYiIpojWwT6XFuYIP1082z/Aq1dQ2jd1ykvSqg8iuauIWW9dOsSUc44MtAXrinceKVQipuo1OBdixGkqlnh2f4FWndX4d6xVThxQH28/668GhHNAwZ6moNO1KrB+9wnf5QXJtSdQfNqIHTsZXwzKi8kovlmi7luKnrasR59OP5tlTD/exQjRz6UCnib55uf7NV6v+Zlorhpzni54IhxbnvrNsnz32fKom2G+fHltlh9drVNVoUhDNuymLffMIe+aD8+6vsl/Aijt/5NvCcvzkonaru2wf/grKmn7t83hFqYXyei/LBPoPcbA5K5CIkP6z7fiJlXEoHW270LTQGYgqL5vTI18MpFRHqAi2rANLdJDcZItV0r6vsiUjBOpiOItsbFps9kxdudrFiK8f3Jj0c+Av1OrOhsx7LRs7hXuQ0BfYLCcVw58JuU6R4iyg37pG6kXufYhWHEXc+jskVbYQo3hCAPAJGv7yNuqv+aXkVPPUoxgeuGwHdHD/I6Q5umMDoWBVxeFBnXSsMHjwuIz6SrQJWlljrUBYCRE+Jn8GHdS2WIhy4YThLmY6npxhv1W7B5zkE+lXIUuQHP6s3AJ4n8/JUH5ajtOgOrCxQiyi37BHrZqSnE5CDeEUTbgDL8sG2gHW2GsoKZUguBh0dmkYKZjTsYDEXhCuxQ2txTLa8wCz6sa60BpICunVT0fRmOU/YnxFyK3vrAkJ8PXxpEFOVYVieuRUTzwb6BvsUHQxkCtX5rPHQSxzcpI1OOHxlGXFzHpiL7P1Ta26sUHG8bmNvwT2/3VlRhGP1J6tQajpHwsNVIntE/IgrA47MqlE1EuWTfQF/uhQtRRMeVp96SxQAmMJwkuGVuCjMRAF7frAPtrB06nQj4lqmUDHQE0RR4LKWdNFOIxgFXkU9esIDexb0HgKdYupyofA4eANGpwiiuTFTIbBroq9HQWAaEb+qpicijxwAWo0gLjvLIEsHMTDRlIFVy1jVoMqRRqtGQk7RKespJ6zFm0txsNVOOy2RvspE/U7jxpXLVEOzOJNjvx0d9l3C57wO8LS/KofD/HQeWbkOtnqbZiRXb18ATG0So37guEeWeLUbdKKNnPIbXzMMh5eGFUYwcuQnP3npAH2KZbF2r7clDHi2GV0ojVZR2Ps5uiKXlCUkepim3RSAMnZQ/U4K0PTXNZWA5xHLuo278+4ZQu1R+FQBixnHzdWfQ2ij06k2jc4hovtgi0BMR0fyxaeqGiIhyhT36WUqeRhHIv1glIloADPRERA7H1A0RkcMx0BMRORwDPRGRwzHQExE5HAM9EZHDMdATETkcAz0RkcMx0OdENRoG2tE2sAvrkkykRkS0UBz5gymrCcnmlzYpmXWt1wWhTSIWG8S5d/cgKi9XS/ylK+1nnLRMmqhMI01YFr11GOc+4fTDRHbBHn1O3MHFTYdxfJMdgnwnaruG0Po30wjF5GUaNchHzqYs7effN4Ra7yDOqeucuwUEdn+BFZXCSnVn0NpYjNAxtUzgsUFgdTuat7OgCJFdMNA7yk6s6NwG9K7CifevyQt1nu1vIuAexxVhmuDw+2cRRjkCWoCuO4PapTGEPklcDUQ/+QChmBuBLZ3qK52obSw3lgkc3YMrt2LwrN7GerBENmGL1E1FTzvWow/Hv60S5lHPNg2SYk53aT56b/cuNFXcx/lXprBGeI9pznrTvO7p5pGXl2vbAK5vGsGyVPtStXR9ir9f6UL89j+h+cBpeXEW1F47zKkb/74h1EKaD15K9WD7F2iuHDG+t/IomnevgUdL81QeRfPuKtwzpHMSKaFw7ypcYWERogVnnx69vx5tL0VwftNhHN90EiNxD6pas6mrqqVPDuN6WC20IdRLNQVVVw2aBpSiJVp5P1dga+Jmaksdgj8fEWqunsRIvAzrDbVeE/s8HzJnwRPKsH5gLaJHEusa9pVXO+HxAtFptUYjAM/2L9C6YRpXbsUAdzE8ADzFbiCi1HUF1BPB7mKEescBFMNTCWBJMTyYRlQP8p2o7WpH0bWzCLMeLJFt2CfQGyogTWF0LAq4vCiS18uZKEaOCJWpxiOIwwOPdk/xVD9OG6YYnkubjFcnka/vG/clOHXgVWyu3zLH3nwq5SgSqq779w2hufgyThh6/crJQKOdCM5JN2s9vuLEk8qjaO7ajJlj7MUT2Y19An3eSTVbT/Xj9CZjScKKnna0DSQecrnDwjSOmRgAlGNF5xAC04eNKZzYNKL4GFF1uJL1iUDpxUenppWnWm//gHFEDgt/E9nDUxzoU1MKiyi9fi19kzo9UyiUIO5ZvQ1F11YZhkF6ihNd/eh0DFi6zXQiMPTiH04jinLUyr39yufghFMikVMw0FvyocgLIHwzi5vBhSM6HQMwjnuGFEsnli0FoqPXEIXWW4/h3pDYK98Jf6UbeDCsBPVRJYevvUfjWVUFj2n7RLRQHBnoZ2aigOt5VM76ZucUZiIAvD79xqu3e1deUjctXZ/ict8lnOsKyotyJvrJZYRRjtp92jBJwL9vG/wYR0jr4fefVYZSbj+q986VYZkxhC5pPfx3EboVg2f1m4mx9ZVHUbvajegt5YYsES08+wyvlH7JqgTWx+bhihmSa7qahlem3bY0dDI+jPNfetHUiMT7WuoQ3FsDl+F9Cn1/HUG0NS42DhVV3xfrNd4TQA6GV3q2f4Hm1cLdVoFxuGMnaruEse6Wv6DN7Nez8j45rJLIXmwR6ImIaP44MnVDREQJBdGjl9MwlsJ9OG4Y905ERCiUQE9ERLPH1A0RkcMx0BMRORwDPRGRwzHQExE5HAM9EZHDMdATETkcAz0RkcM91ePo9YnKnrofW2VQAnE+aKUZDUVmiGi+2adH31KH4EA7GjrkBZR7mZZAzFBHEG0DuxaoNOJ86kRt1xBaxYcw46eu8iiaDeudYWF0shX7BPoFENn/oVJU5KnqzS+gQ6eV410wvfl3ceXAKpzQH2cRXrpNCvadqN29BtFebZ3DCMXKUduZmN6ZaKE91YGeKDvK/PtYWiP02JWTQWJa5o/xzbVxwF0FvzZHP9ECW/AcfeqCHmLuWMkro/cwBkvE98j5ZR/Wfb4DVcIk8eJc9LDYp7wc2kRq6MPxb6uUvDJgKvKdmUzbbZ68bdJivnq57ZZt0nLhmhQ58aRz81vOma98Frd6vOT2Goj7lNuT9J6IfO9A+mwtdQjufR4Pj1wAWoXvOMn25jq3vxXP9i/QXDliMXe/oO4MWhvLOS8/2caC9+j19MmRYcTV4KbVaD0uBx8ApY3taKq4j/ObDuP4ppMYiZdhfU+1vryiZytwQthG7wRcgR2G3L++z019mEy8bOavR9tLEWFfHlS11ulVp7KRut0+rPtcPbFo7T4yDHejdM+iI4imAAx1bI9vMgZ5b/cutdCJtvwkRlCDpoEgKoRN5cLY64ljrARloV3iiUVL2Ww6iZG4cRu6ljoE1ZOIto3zIaBqr3zfxoOqvTvg+VLYt78+P/d21OpZ4WspgrxeVzeGmYfyEqKFseCBPmvhPiGImEv+jb0u9W4PjWASgLvEJ7yYIUNPeAqjY1HA5UWRvF4mUrW7YyOqXBO4LvZKT/VjOAyU/jxxEvOWLAbwGDNJryiqsSbgQTx0QTgGU7hxYhhxlGFZPoLhLFVsrYErPox+4coqsv8CRuLGYwD5SifF93vqwKvYXL9ljr154Ybs7jXwPDibupeungzw4DK+GZUXEi2Mggv08RljimXsdan3qI7eadMfYipg4aRqtxLAy7De0G41LSKcxCL7b2JSX89ilEuLD25E8fBr475w6g4exq2DoT0oxdjjY3ek9JJ6chWOQf4Zb8hewbYUo2qUG7MejOPK+1pdXaKFV3CBPiWthmtYSIGkS8/YxgSu621OkgLRh0WqaaS9ygkhL2kLAgCE3z+LMMoR2L5TWqLV4I0hdMxcV5doITkr0Jd74UIUIxfMN+bsLPLoMYDFKJJ76ElN4cYriZy3nto4NYUYPFjyC6nn3lKNJS4g9kjq6duGkspyVVRLPXcfKis8QGTK8kbyQopOfSw824kVnVqQf5kpG7Id+wT6U1OIwZyPzcp4BHF44CnXXpBHcdjUoatqDz3bG6Y+eFxiWugO7oUBV2CrkNbxYV2rkv8elEbwpKR+H4l0T4pjqR530wkmC2PfTgCuGtR1J7bh7d6KKtfsT9wtXZ/ict8lnOsKyotmSQ3osUGEhDy9f187Am4GebKvBR9eaaClXvQXzMMrtaF9ycjDDyd7TyL60g4sGUu8L/mwwMT+Knrasd5rHJaYdChiSpm122pYKKQbj1btthoaKh8D0/BD03FOMGzPMCwyihF1WKN4LHXyEErhRrapPTqr4ZPJvv/MhnyK5jy8Uh0mKYreOoxznwi9eYt1dLHB1MMwifLEXoGeiIhyzj6pGyIimhfs0c+SVRrFRE6ZEBEtAAZ6IiKHY+qGiMjhGOiJiByOgZ6IyOEY6ImIHI6BnojI4RjoiYgcjoGeiMjhOI7ekbQpczXjuHKAU+fKPNu/QPNqt/7cNI8NkUM4MtBbTUg2f9TJyCJ2+hWsEuiRtmapOIe69cyL/n1DqF2qPUuynjSx1/wFzJ1Y0dmOQCI2qyxOZFm1SdnustFU6xAVLqZunlL+fUNo7arBzK2YvEjn3zeEWu8gzqnVlc7dAgK7v8CKSmGlujNobSxG6JhahenYILC6Hc2mwhy5E711WK/4pDysgnx+20RkZwz0TyHP9i9Qi7PmACmqO4PapTGEPklMsxv95AOEYm4EtnSqr3SitrEc0VsfJHr5o3tw5VYMntVi6iif7NgmooVli0Bf0dOOtp5qZU5zvWaqRU3UlKrRINZaddWgSai/GhQKWgDq/OlijdYei4In8jpi2T69Nq06h7y/3no9wNC2lPubl2IZZtFPXsaJNDVNPb5iIDaCsJimqdyAZW4AS2uUgFn5HDyI4d6QsdqSv9INoBzL6oSX88WObSJaYLYI9IAaKF+K4LxYE7W1Loui0Fo91cO4HlYLXwi1V8WiFN7uXWhrhFCj9SRGvPXG4NtSh2BjGSZ7jTVc9YIXp/pxWm+rOlOl1XrwYd3n9SiVltsnn2/NU+wGIn9MFM2oO4PW3cUI9Y4DKIanEsCSYngwjah+MuhEbVc7iq6dRRiAxzc/qRLP6na0dg2pD6lQ9wK1icjO7BPohYpEwBRGx6KAy4sieb05q8aagAeTvWKVqCnc+HIC8FclSvmp9Wej4/pKsySX+0vt1IFXsbl+y+wqIuXMTniEM6xn+xdo3TCNc1Kqx+MrTjypPIrmrs2YOZbuBvBcfIxv3hVz86tw5UE5arsS9w3y3yYi+7NPoM+XFh/cAEobpVRKY5mxQLdex9UqFZONOxgMReEK7EiZsrGXjxFVhyv59w2hufgyThhK4ik95ujUtPJU6+0fMI7IMRbQnh/h988iDDeWrVJ66nZoE5HdPH2BXiWnZJSHUL8UU7jxivL69XDixGDK9Wcgsv9DZfu9E4lc/ufZpKXyLzodA5ZuQ2D6sCGfb+gxP5xGFOWolXv7lc/BqkLsfPIUq0MpbdQmIrt4+gL9qSnEALhLMg/YY68nAr6ronr2AfrQ6UTAdz2PyqxuNueX0jNOclPzwbASQEeVHH509JqhALZnVRU8GMe9fKRL1AAe/r/qycgObSKyGUcG+pmZaIpAmkilZJeO8aHICyAyJf0IawozERjz+2l4SxYDeIwZ/eohIR+jbjLSf1YZSrn9qN4T9mx/EwF3DKFLWg//XYRuxeBZ/WZibH3lUdSudiN6S7n5KdI+2+UP90tLZqsTtbvXwBMbREgP4Nm1iehpYItfxlr9ktXbvQtNgce4vkm8aZo5uaZrPHTSNPKmKSBdzAs1XtMtN1J/HetKvDLZq468aalDcG8NhEUAJpJ+rpauT/H3K12I3/6nOdyQTfPL2MqjaN69xjqV8eCskKqRf4lq8QtUi6kEwsn2+/YHuNzgBxBH6B9fxdtn5BXSkad2SL6vjNsE8Jex5Hi2CPSUa2kC/YIJ4r3P/g4BVxi99W/iPXnxgmGgJ2dzZOqGbOrtXyLgAuK3/8VGQZ7I+QqiRy+nYSwlTas8jeQUh3XKJX/246O+X8IPIHxxC96wSZSX0zupJz4jKlwFEeiJiGj2mLohInI4BnoiIodjoCcicjgGeiIih2OgJyJyOAZ6IiKH4/BKp+kIqlMuq/L0+wJ9yog87S+fjAXS002n4Dz8vUHhs0+gV+eEiWlzxMy3jiDaGhdj5Ig4NbGTqPPvROYWeK3mIbLi+EAPcQ4gkTwfEIDYIM4Z5u+H5Xr5OGEYT1IxhI4Z5+fX6MHcsu0aThVRqJi6oZzQ59x3WJBPT656dRghrEFzZ2LWTwDw72tHIHJWX+/crRj8jYnKWLnXidou9QSlt806yAOdCAg9dnIeBnqinPoY31wbB9xV8AtBPPz+KsMVQfSTy4bKWLm1Eys6t8FvmIk0Of++bfDHBnHlVkxeRA6x4Kkby+mAdfJ0vvJ0wFGL1Iu8jrEebcp5cwx1azNRjYaBeqD3MAZLxM+R+3ZrTMcraaokRerGKm1lSJ0pn6vU+C6dOOWz3B55OmidfO9A/mwdQbVg+wiWCfs2by+z44ScTfmcLnVjoe4MWhuRZn4hdT6iDINxViqPonl3Fe4lSdMYqFNWR3tXIeT7As2VI0zdONCC9+j1S/4jw4ibSvyJwbIaDQM7sGTsZGJ572NU7d2FdUKBkYqeHajCMM6LJQKFIKBVizreO6EGXOv1slHa2I6mivvqPk9iJF6G9Xpt2Ny0W1mnXZ2jX1unD5P++nkoS3gHF9V9XA+rgVRolxh49e9vUx8mDdtI8HbvUk8s2jZOYgQ1aBoISsVayrB+YC2i6nrnQ1G4AluzPk4LqxO1jeXpi5yolbGi03OuPm+2pBgeTCO65Axau4b0R/N2+ephJ1ZsXwPPg7Pzfq+AFtaCB/pMebvXojQ+jH6xd6cW8F7yC60sYLIqUPMs3CcEG7XilNcHby7b3VKHGj8w2Sue/O7gou3LElZjTcCDeOiCsR7viWHEUYZlhipfxiudyNf3EYcHHrUcbEbHSXDqwKvYXL9lTr35zOzEik4toKppkJQ9XjXAYhyhlOvNjlLXtxy1fzOcyM8fGwRWtxuDfd02qWIYOVXBBPqiIg/gqkHTgFKkW3kol/CuIi1gTuHGl/kvwB2fMaYqxl5P9DJz1u5yL1yYwD15RNKhEUwagqHNtPjgRhQPv5bSOafu4GE8u9q9GR2nBWG8IXtutArNXclvtPr3KaNvwr2pUjtzNY4rYkpodA9CDwBP5Qb1JrF25fFB+vQOFbyCCfSAOYWgP8QctFaA+8gw4nqAlVMEeVao7bajAjhO0U8+UOrtbumUF+nDHaO3Duc9XRKdjgHuYngAeLZvhn+erijIfgom0CsFv70okhckc6ofp7WAYEoR5E/O2j0esf4cHVUoRRTReUj15sSpKcQgpqlULdVY4gJijyxu3GYi2XGyETn/7tn+hR7k5/NmZnRoBFEUwyNdUXiK3UBsGlHshL/SraR3xBz+ajfgXoPmriG0SsNDqbDZJ9CfmkIMQOnPtZuYRpH9NzGJMqzP9nK93AuXVSAcjyBuFYByLGftVlMdpY1i77UaDY1lQPhmdj/6Uj+7nu6xLGCuUE5Uc7kHcAf3wpBuqvqwrrUGrvgwBuVUVLbk4yRo6foUl/su4VxXUF40r5TUjNRbrjuD5tXujIK81u7LH+6XF2Vm9BruxdwIbBeCdd0Z1C4Fwtf2IGoa+58Y24/YIM4dWIUTSUfeUCFa8OGVBqaAIw9TtBr2J97AS7dckm7IX1rK/tymIYCydO1KtzxBHh4qDz+UhzsmGLdnXG9CH9YIi18mp9qnvCzB+N2Z2iUPC0075BNZHSfka3ilOjzRcMRNQybl0o4ii1+rvv0BLjf4AcQR+sdX8fYZYVnG5F/iWuxH4tnO4ZVOZa9AT2RDKQP9vAjivc/+DgFXGL31b9qokDoDfaGyT+qGiBRv/xIBFxC//S82CvJUyNijN7FKD5hNWqQ4yJnyN3vlfnzU90v4AYQvbsEbNonynL2y8DHQExE5HFM3REQOx0BPRORwDPRERA7HQE9E5HAM9EREDsdAT0TkcAz0REQOx3H0c2E1P8sCq+hpx3pvtnP2zJ0+l408h40D5O8HU/bEH0wVPvv06FvqEBxoR0O+ppvtCKJtwFjOb6FV9NipmAYZPDirz/JoHeQTVaZq6+Rlgrp05f1yKTdtin7ysvrZDyPE+uEFyT6BngqaXjvWYb35THi2f4HWrjeBUYu5kgX+fUNq0XBhauB56hnbsU20cBjoieai7owyte+Bl/FNipmqlaIj47hyYD7LB6rs2CZaUAueozfNU24gz0fvw7rPlXqrCqu5yOV1jPPMJ58/fRbz0XcE0dYIfS53bSI0eY54q4nSEpOimZeJzNuSP5/xGFX0tGM9+nD82yphrn35OGZK3pf5GMnfn7m95nV0puMt7y/771eUl/noRXVn0NpYbpHDX8DpfXPaptm8h+xgwQO9zlRkQmZR5MPiZmjGNyMt3ps1vXCJEJBM2/Vh3ecbMfOKXIQDpn2nb7t6UjAEtmo09AAX1ZSJfiLT11EDI1Jt11r69ogsvp9k9BOkuahMzr5fWwV6pfAIes8CjUIBkthgiiIfOZLTNjHQF6qCSd14u9eiND6MfjGIHLqKkbhYDtCHIi+AyFTaIJA7Uq/T1KYp3BCCPABEvr5vLOWXoYqeepRiAtcNQe6OHuR1hhPBFEbHsqxbC8zjsVTKH072Go/JfHy/pw68is31W+YU5HOi8jl4APgba3BPz4UfRghr0LxQtVnt2CaaNwUT6IuKPICrBk0D7WjTH8olvKtICKpfTgD+emX5goxgmcJMRGyTNsJHaHeS+qypqUEuPDKLFMxszM+xrOipR2m4z3TVVjjf7+yFe8Vc+Mf45to44K6CXyrinU92bBPlXsEEekDtqW46rIzuEB9ij/bQaeW1I8OI64FDLKg939SArFHTO/HQyUR7jwwjLqxiW7k+lh1BrPdP4Lp8BaIpiO83hx5OIwo3ipbICxaQHdtEc1YwgX5mJsv0w6l+nNaDahmW5Wt8PnzwuID4jJKC8JYsBjCB4XR567SUKwV4ffnvxebiWLbUIdi4GCNHrG8KF873Owuj13AvBnh80pj5JcXwIIaZh8aX88KObaJ5Y59Af2oKMQClP6+WlwAAIvtvYhJlWJ/t5Xq5Fy5EEZWHE49HEIeY/80NLY+uBfbIo8cAFqNI+2GWetPZKnWjBLvnUZnkR1xjF9RebI94jKrRYHg+j5Idy7R8WNdaA4QuJL3xnfPvV70Ze7nvEs51BeVFefYxwqMxeFa/iRV6SqQTtY3lwIPL+GbUuLbW7ssf7jcuyKns2kSFzT6jbmAVBOVhgVZDEcWboemWS/RRM6okw/SSMrXXehvGIZ1RjBy5Cc/eesBihJE8/NM8XFH+jBbDK6VRKcoon8dZDrGU9wPLYym3NyHRrqTDK03bS7fPdMuN8jPqRhm9YnkIpBEsGU8l8PYHuNzgBxBH6B9fxdtn5BXSmYc2ARx1U8DsFeiJbCh1oJ8PQbz32d8h4Aqjt/5N2KRGOAN9AbNP6oaIFG//EgEXEL/9LzYK8lTI2KM3sUoPmCV+2VpYkqdaBA6cgXIu8jd75X581PdL+AGEL27BGzaJ8tmld8iOGOiJiByOqRsiIodjoCcicjgGeiIih2OgJyJyOAZ6IiKHY6AnInI4BnoiIod7qsfR63OwzPkHQtqPrJLPu5I38vw9c/5sdmdRmUqVu++XqLCxR59KSx2CA+1osPMUuDJtvvZNJzFSEJPeE6CW/OsaSv7Y1ym/gyhjT3WPPq20dWztTK0VG3F6bzZ5j75wafVc52uqBXrasEdPRORwtujRV/S0Yz36cPzbKiG/bJXvliccs1pH7cmKk8RLc8TL86PLc77Ly43E+d/l9sjz52vk9aR2t9QhuPd5PDxyAWgV2m6RWza1zWL+e0VuevTyJGjGydyUfSwZO4l+bBXaZX0czPPyy99dmuOkktsE6TuUj5H8/SKb/3NWNQcAi8+oTS082znkRal69IllIZ842dg4rhxQ679WHkXz7jWIGt6vvM8jT0hWdwatjUKV+gf5nI6Z8sU+PXp/PdoagetqndDrYQ+q9gq1QFvqEFQv0bVaoudDQNVeYw69omcHqiDVHpUCYWT/h+qyPkwKr5uWq7VdJ3vFGqbiH/cdXNTbopVykGTYbsCDqr074PlS3U+vUgTbsE5HEHW4ILSlD5OmilO54sO6z9VgqO3vyDDcjXK7AVdgB5qKbgrHtAzrDW1St+Wf0L/f45suAFuFalIZHSd1O17x+zV/h+m+X52/Hm0vRdRtncRI3IOqVqlNe2sAoU3Xw7AI8vnnbxxCc+UIzh1YhRMHDiMUK0dtlnl8z/Yv0NoIXDmwCie07Xi38X6AA9kn0Et/PGMXjLVAK7bWwBUfRr/QM4vsv4CRuFh+UC3MHZmy6OEujMzarTD0lg+NYBKAu0QodXjotNQzvYN74XmqI9uxEVUuqZD3qX4Mh83tNl55mNvk7d6KKldUqhc7hRuvJ07AGR2njo3Kdk5YXcHMguFqaAqjY1LdWrVM4cOvE20a+3bCWBpSdxpv/3oLNtfPtTefoQdncUKvFPUxohEA3ueQ7DrUrBOB1W6Ee9WrAADAx/jm2jiwtMa6OhUVLPsE+ngEM+JztYasEuiUAB4fuyP9gat/nHpQmcKNL5WecNtAO9qyrT+ac5m2O1NKj7ZtIPGQUxi5ohQ1L8N6YV/6/rJsd1GRB4jfx2jSYaeZHSdvyeI028kxi7rCFT8vy28bkohOG4vkht9fJQT+DFQqJwV/ozS6p7EcQDE8eh1ZcgL7BPokYo+yHEmhDS88ohbSHmhH24CQAipY2r0HMf2hpRLmi3Ff+sPynoADqZ0NV2CHcKKbwHUHff5wr5a2ER8vszi4w9g30Lf44EYU0XEAmMJMBHBVVEs9SR8qKzzWqZpT/TitBXwhBZRfs2h3Uj54XEA8dDUvueHIo8dJUhTZm5mRUiImWRwneTstPiRqH+WWt3stSuPS/Z4Fzs3nzOgfEQXg8e2Ul5AD2TTQV6Nhbw1c4Zv6CIixbycAVw3quhOX0Xru90KKUSVqnlU5YWRJ7dGZctJZmHW7TaYQjQOuIiGNYDH6JGcOXVVuToo3xGcpsv+mcoPWkErzYV1P4nkmxyny9X3EUYYabZ2kI2JySD6xJBXEe59dwuW+T/Heb+RleWYK4sqIG+N/lXcRuhWDZ3U7ausMC8iB7DO8MsVwOZ3pD1se/SAPz4PlkDmr/Snk7aXZp2lZgqH9pvWk/Vj+MMvih0DydsJ9OD+zFk0V9/WbivLQwgTzcUjPYqiq4aax9RDOih51ZIwhxSFvy6I98ueTjxPkKR4mcH3TVRSpQzy145TJ92vVRuXYPRb2Kbc5wVwzOL/DK03DJGWGYZMxhI59AGxvx7JR4/vkerAAh1g6kX0CvSkwEC2sZP8vlROJxUmIyKZsmrohWmjqUF0T9XV5lBiRjbFH/5RJntYQWPwi9+lklQrk8aHCY4tAT0RE84epGyIih2OgJyJyOAZ6IiKHY6AnInI4BnoiIodjoCcicjgGeiIih2OgJyJyOAZ6IiKHY6AnInI4BnoiIodjoCcicjgGeiIih2OgJyJyOAZ6IiKHY6AnInI4BnoiIodjoCcicjgGeiIih2OgJyJyOAZ6IiKHY6AnInI4BnoiIodjoCcicjgGeiIih2OgJyJyOAZ6IiKHY6AnInI4BnoiIodjoCcicjgG+ix4u3ehbSCICnlBzviw7vN2tA20o6FDXkZENDsM9JRSRU872j6vg1dekFOdqO0aQmvSxxn45bcQUcZ+tPyF//YX+cV0XG4P/v3f4/h///mf8iJH83bvQlPgMa5vOo0xeaFDVfS0Y713GOdf6UdEXjhP/PuGUIuzOPH+u/IiIpoF9uiJiBzOPj36ljoE99bApT2PS73IjiDaGoHrm0awbKAepdpqoZM4vX9KW0shbyvch+Ov3zGsovTOPYkXLNYxbQcAMCH16H1Y9/kOVOkrRTFy5EPcOKWvkIFMtqGss2TsJPqxVWi7sT0VPe1Yjz4c/7YKbY1l6qvS9jqCaGtcbHxN/ayx3sO4eKgaDcIxllkd85auT/H3K12I3/4nNB84bViWreQ9+p1Y0dmOZaOHcW5qG1oby9XXYwgdexnfjCbWCUSM7/fvG0KtdxDn3t2DqPZi5VE0714D/X9BTFpO5BD26NF3BNG293k8PHIYxzcpj+uRGjSZcsNlWD+wFlF1vfOhKFyBrVjXIqzSEUTb3hogdFLf1vFvqww3Nyt62tUUjLa/Pkz66425aHU7sd5Em86H5BBQjYYBJfjq++p9jKq9u4xtSmsKN17R3j8hLzRwBXagqehmot0ow/qeauNK/nr1pKgey7AHVXuzuYl8Bxf196onXf1YHTYF+XzzrG5HayNw5cAqnDiwClceuBHYfjQRsDNRdwatu6tw75iyjRMHVuFKZA2aO7PcDlEBsEGg92HdS2WIhy4YerBjF4YRdz2PSkPANPZMI1/fRxweeLSOHarR0FgGhPuMwejQaVw8pP67pQ41fmCyV+yV38HF3glA35/SJoT7Eu+z4O1ei9L4MPoN+7qKkbgHS37hE1fNHcOVxx3cCwPw+qQTorGXP3ZhGHGUYdk8juQ5deBVbK7fMufefEZigzh34DcIq0+j0zHAXZxFgN6JFRvKEb31gXoVoAhfGkTUXQV/pbguUeGzRaD3uJSeatuAMrSwbaAdbXtr4DIE8Qy0+OAGMPmtlIIRlXvhwgTuyQH80Agm9f0pbUq5HQBFRR7AVYMmsd0DSgrGVTRPgT4T8QhmxOenphAD4C5ZwDblUuSPhvRK9JOXcUII/OmVo8itXhmIo3t2r4EHbhQtkdcnKmw2CPSKuJhqER6petS2IKU19Iec77eB2KOFTbnYTfTWYT1tIz6u9MtrEhU2GwT6KUTjOeoBZ9JzHY9YpzE6qlCKKKLjiZfk7RQVGZMDMzNRwOVFkeFVG2rxwS19tqfbOGZigKc4m8tFosJli0B/48sJwF+PYHeKAJ2ROxgMReEK7DD+srQjmHh+6g4exoHSRvHmpJbbv6nm/5XctyuwUV+noqcd66Vf7UT231RuhppuGttJNRr21sClfzbtZCekxSxHFymUk5l8r8SspetTXO67hHNdQXlRnn2MaASA9zk9Z+/fN4TapcZ1vrk2DizdhubtO8UFRI5kn+GVHUFhOKBKHGKZdkig8D55WxZDJ+XAbR4yaBzyGA+dxOlHG9XRLOKNXKuhiFbDI1Ox2oZKb7vanojxs8g/aJI/Fyw/mzy8dEIftgr5WFps02p7+RxeKQ+dNOtEbdc2/de00VuHcQVvorlyxDh8su6MMERTxSGW5ED2CfSUE3LgJyKyQeqGiIjmE3v080hOeViySCvNBXv0RCRjoCcicjimboiIHI6BnojI4RjoiYgcjoGeiMjhGOiJiByOgZ6IyOE4vDILT2PNWMeSpz94kG5aBaLCxR69E7XUITjQbpzYbT51BNE2kG1VrdnYiRWdwvzxwqO2Tl43jf7fqNMSH0YoJi8kchYGeio8D85yDnmiLDDQExE5nH1y9PKc6OIUxdCmHoY+na42pa/VlLmmbVnMJ2Ocptd6HdN2AFM9Vnk64+ynKNbI2wEmDVMGp5+mGPJnMhDancmxtJwCWplO2a2ul3IuH/n7A4C3P8DlBj8w8S/YvKtbXJKhTKcpBjzbv0DzanfihaTTD6fbpnHKY8A6ny/PeR/u5VUG2Yc9evQdQbTtfR4PjyRK8V2P1KDJVNCjDOsH1iKqrnc+FIUrsNWYG+4Iom1vDSCWJvy2ypCvruhpV2+qavvrw6S/Hm3i/tTtxHoTbTofksNENRoGdmDJmLCv3seo2pttvlrZTlWkT9jOBEob27MqxhLZ/6Hy3iPDiKsnikR5Q/kGchnWq/PPa/szFWxJY+z1xHuVE5ywPznI51PdGdTiAyG1cxZh9xo07+uU10xjJ1Z0boNfThUZgrxy36AWwjrHBuFpnMV9A6J5YoNA78O6l8oQD10w9ILHLgwjbqpsZOwtR76+b6yUpFeK6jP28g+dTvRKW+pQ4wcme8XAdwcXeyeESkpKmxDuMxXhEHm716I0Pox+w76uYiTuwZJfZB6gvd1rUYoJXBevKA6dxvUw4KqonrfqVYYrhkNXMRIHSn9eLa2VQ++9ic31W2bZmxcs3SbdjD1j7HH3/wbnPvlYeOFd3HtgrDqVGaWIeHQ6RQ3Gum0IuMdxRQz+o3sQegD4/ybbEwvR/LBFoPe4AFdgB9oG2hOPvTVwGYJ4Blp8cAOY/DbFtL/lXrgwgXtyAD80gkl9f0qbUm5HqyHrqkGT2O4BJf2STQ3coiIPEB4xDdkc+3ZiHmvSyjVkpzATAeD1zduJJWfkHvaB3yBsWME8OsdYSjBT7yJ0KwbP6nZlOxZXBB5fMYBy1MqjgJbO5sRCND9sEOgVcTHVIjxS9ahtIT6M8xbtNuX7C0VkauFSLjmh5tzd47gijsp5IK+XmegnLyvb6FVqzLZ2DaG186gUwI370h+W9wSI8s8GgX4K0Xh2PeCkTk0hBsBdkmJb4xHEUYZlci66owqlUi9X3k5RkfHPWymcPfce98xMFPBXCcXKFRU/LwPiEcxIr88PH4q8QHxGurFdcNR0y62zUi9/jrRx973jgLsK/krl5ejUNIBieNTnRHZki0B/48sJwF+f1Y1Ha3cwGIqabyp2BBPPT93BwzhQ2hgUAquW27+p5v/v4F4YcAU26utYjTCJ7L+JSZRhvemmcXaUew1lWN8j5Mc7gljvBya/1G5qmlMrVm0CEie8bPLtFT07UOWawLB2v8F00kxRwHw8gjgyuC/x9ge43HcJlz/cLy/JoXHMxABPcSLnJ4+ImQslVTON6Kj6Qv9ZhGJuBHZL9wmIbMQ+wys7gmhrLDO+Jg7R6wiirXGxceii5RBAi21ZDJ2Ug6R5mKZxuGM8dBKnH21UhyWKN3KtAuBshljK27HahnGdeOgk+rEVTRX3zUMZTUND5eGVKY61xrBeFCNHLgCtyigj05BWeZtW28vX8MrKo2jevSaRXnlwFuemN6O5ckQfYmkafqmLIXTsZXwzarEdQE3TWN0TaEdA2hyHWJJd2CfQU/5YnTSJyLFskLohIqL5xB79PJLTQ5Ys0krzjj16oqcKAz0RkcMxdUNE5HAM9EREDsdAT0TkcLMK9PFYlPl5IqICMatAT0REhYOBnojI4RjoiYgcjoGeiMjhGOiJiByOgZ6IyOEY6ImIHI6BnojI4RjoiYgcjoGeiMjh/n8In5M2/XGtnwAAAABJRU5ErkJggg==)\n"
      ],
      "metadata": {
        "id": "IRWO3VHFGqZV"
      },
      "id": "IRWO3VHFGqZV"
    },
    {
      "cell_type": "markdown",
      "id": "9b6358b5-78d1-4baf-8928-6bb49b150680",
      "metadata": {
        "id": "9b6358b5-78d1-4baf-8928-6bb49b150680"
      },
      "source": [
        "# Loading the configuration\n",
        "\n",
        "You can open the yaml file in config/darcy_config in the same folder as this notebook to inspect the parameters and change them."
      ]
    },
    {
      "cell_type": "code",
      "execution_count": 52,
      "id": "4503f065-4063-4a4f-b00f-06a7c3a88e27",
      "metadata": {
        "id": "4503f065-4063-4a4f-b00f-06a7c3a88e27"
      },
      "outputs": [],
      "source": [
        "# Read the configuration\n",
        "config_name = 'default'\n",
        "pipe = ConfigPipeline([YamlConfig('./darcy_config.yaml', config_name='default'),\n",
        "                      ])\n",
        "config = pipe.read_conf()\n",
        "config_name = pipe.steps[-1].config_name"
      ]
    },
    {
      "cell_type": "markdown",
      "id": "e95d820d-9578-4ad7-80b4-05a5771f1642",
      "metadata": {
        "id": "e95d820d-9578-4ad7-80b4-05a5771f1642"
      },
      "source": [
        "## Setup\n",
        "\n",
        "Here we just setup pytorch and print the configuration"
      ]
    },
    {
      "cell_type": "code",
      "execution_count": 53,
      "id": "46066d9f-21a3-4aab-b6e1-f7f38e05f88b",
      "metadata": {
        "id": "46066d9f-21a3-4aab-b6e1-f7f38e05f88b"
      },
      "outputs": [],
      "source": [
        "# Set-up distributed communication, if using\n",
        "device, is_logger = setup(config)"
      ]
    },
    {
      "cell_type": "code",
      "execution_count": 54,
      "id": "26d599f9-6463-4056-9a4d-72c01d05298e",
      "metadata": {
        "id": "26d599f9-6463-4056-9a4d-72c01d05298e",
        "colab": {
          "base_uri": "https://localhost:8080/"
        },
        "outputId": "bc3a1ac1-75f0-4205-b5d1-c42259122ef4"
      },
      "outputs": [
        {
          "output_type": "stream",
          "name": "stdout",
          "text": [
            "###############################\n",
            "#####    CONFIGURATION    #####\n",
            "###############################\n",
            "\n",
            "Steps:\n",
            "------\n",
            " (1) YamlConfig with config_file=./darcy_config.yaml, config_name=default, config_folder=.\n",
            "\n",
            "-------------------------------\n",
            "\n",
            "Configuration:\n",
            "--------------\n",
            "\n",
            "n_params_baseline=None\n",
            "verbose=True\n",
            "arch=tfno2d\n",
            "distributed.use_distributed=False\n",
            "distributed.wireup_info=mpi\n",
            "distributed.wireup_store=tcp\n",
            "distributed.model_parallel_size=2\n",
            "distributed.seed=666\n",
            "tfno2d.data_channels=1\n",
            "tfno2d.n_modes_height=16\n",
            "tfno2d.n_modes_width=16\n",
            "tfno2d.hidden_channels=32\n",
            "tfno2d.projection_channels=64\n",
            "tfno2d.n_layers=4\n",
            "tfno2d.domain_padding=None\n",
            "tfno2d.domain_padding_mode=one-sided\n",
            "tfno2d.fft_norm=forward\n",
            "tfno2d.norm=group_norm\n",
            "tfno2d.skip=linear\n",
            "tfno2d.implementation=factorized\n",
            "tfno2d.separable=0\n",
            "tfno2d.preactivation=0\n",
            "tfno2d.use_mlp=1\n",
            "tfno2d.mlp.expansion=0.5\n",
            "tfno2d.mlp.dropout=0\n",
            "tfno2d.factorization=None\n",
            "tfno2d.rank=1.0\n",
            "tfno2d.fixed_rank_modes=None\n",
            "tfno2d.dropout=0.0\n",
            "tfno2d.tensor_lasso_penalty=0.0\n",
            "tfno2d.joint_factorization=False\n",
            "tfno2d.fno_block_precision=full\n",
            "tfno2d.stabilizer=None\n",
            "opt.n_epochs=2\n",
            "opt.learning_rate=0.005\n",
            "opt.training_loss=h1\n",
            "opt.weight_decay=0.0001\n",
            "opt.amp_autocast=False\n",
            "opt.scheduler_T_max=500\n",
            "opt.scheduler_patience=5\n",
            "opt.scheduler=StepLR\n",
            "opt.step_size=60\n",
            "opt.gamma=0.5\n",
            "data.folder=/content/data/darcy_flow\n",
            "data.batch_size=16\n",
            "data.n_train=1000\n",
            "data.train_resolution=32\n",
            "data.n_tests=[100, 50]\n",
            "data.test_resolutions=[32, 64]\n",
            "data.test_batch_sizes=[16, 16]\n",
            "data.positional_encoding=True\n",
            "data.encode_input=True\n",
            "data.encode_output=False\n",
            "patching.levels=0\n",
            "patching.padding=0\n",
            "patching.stitching=False\n",
            "wandb.log=False\n",
            "wandb.name=None\n",
            "wandb.group=\n",
            "wandb.project=\n",
            "wandb.entity=\n",
            "wandb.sweep=False\n",
            "wandb.log_output=True\n",
            "wandb.log_test_interval=1\n",
            "\n",
            "###############################\n"
          ]
        }
      ],
      "source": [
        "# Make sure we only print information when needed\n",
        "config.verbose = config.verbose and is_logger\n",
        "\n",
        "#Print config to screen\n",
        "if config.verbose and is_logger:\n",
        "    pipe.log()\n",
        "    sys.stdout.flush()"
      ]
    },
    {
      "cell_type": "markdown",
      "id": "1339c794-3e1c-469b-b0a0-cf968fc1dfa1",
      "metadata": {
        "id": "1339c794-3e1c-469b-b0a0-cf968fc1dfa1"
      },
      "source": [
        "# Loading the data\n",
        "\n",
        "We train in one resolution and test in several resolutions to show the zero-shot super-resolution capabilities of neural-operators."
      ]
    },
    {
      "cell_type": "code",
      "execution_count": 55,
      "id": "3515a85a-40fc-4223-9cdb-8768de37d6e2",
      "metadata": {
        "id": "3515a85a-40fc-4223-9cdb-8768de37d6e2",
        "colab": {
          "base_uri": "https://localhost:8080/"
        },
        "outputId": "7a6028bc-0c9a-4699-8c8c-bf53304d2b7f"
      },
      "outputs": [
        {
          "output_type": "stream",
          "name": "stdout",
          "text": [
            "Loading test db at resolution 64 with 50 samples and batch-size=16\n"
          ]
        }
      ],
      "source": [
        "# Loading the Darcy flow training set in 32x32 resolution, test set in 32x32 and 64x64 resolutions\n",
        "train_loader, test_loaders, output_encoder = load_darcy_pt(\n",
        "        config.data.folder, train_resolution=config.data.train_resolution, n_train=config.data.n_train, batch_size=config.data.batch_size,\n",
        "        positional_encoding=config.data.positional_encoding,\n",
        "        test_resolutions=config.data.test_resolutions, n_tests=config.data.n_tests, test_batch_sizes=config.data.test_batch_sizes,\n",
        "        encode_input=config.data.encode_input, encode_output=config.data.encode_output,\n",
        "        )"
      ]
    },
    {
      "cell_type": "markdown",
      "id": "8109298a-aca3-45b7-a8de-c5cf4e1c210b",
      "metadata": {
        "id": "8109298a-aca3-45b7-a8de-c5cf4e1c210b"
      },
      "source": [
        "# Creating the model and putting it on the GPU"
      ]
    },
    {
      "cell_type": "code",
      "execution_count": 56,
      "id": "db295d23-ab86-4f37-83cc-7af0a8e485ea",
      "metadata": {
        "id": "db295d23-ab86-4f37-83cc-7af0a8e485ea",
        "colab": {
          "base_uri": "https://localhost:8080/"
        },
        "outputId": "3400fee1-42b7-4060-f6ab-0b9fae360f4d"
      },
      "outputs": [
        {
          "output_type": "stream",
          "name": "stdout",
          "text": [
            "\n",
            "n_params: 1199713\n"
          ]
        }
      ],
      "source": [
        "model = get_model(config)\n",
        "model = model.to(device)\n",
        "\n",
        "#Log parameter count\n",
        "if is_logger:\n",
        "    n_params = count_model_params(model)\n",
        "\n",
        "    if config.verbose:\n",
        "        print(f'\\nn_params: {n_params}')\n",
        "        sys.stdout.flush()"
      ]
    },
    {
      "cell_type": "markdown",
      "id": "fec85d0a-4db4-4b1f-b599-8c2afc98520a",
      "metadata": {
        "id": "fec85d0a-4db4-4b1f-b599-8c2afc98520a"
      },
      "source": [
        "# Create the optimizer and learning rate scheduler\n",
        "\n",
        "Here, we use an Adam optimizer and a learning rate schedule depending on the configuration"
      ]
    },
    {
      "cell_type": "code",
      "execution_count": 57,
      "id": "5164537a-267b-4fda-9bcd-257dc3ac4826",
      "metadata": {
        "id": "5164537a-267b-4fda-9bcd-257dc3ac4826"
      },
      "outputs": [],
      "source": [
        "#Create the optimizer\n",
        "optimizer = torch.optim.Adam(model.parameters(),\n",
        "                                lr=config.opt.learning_rate,\n",
        "                                weight_decay=config.opt.weight_decay)\n",
        "\n",
        "if config.opt.scheduler == 'ReduceLROnPlateau':\n",
        "    scheduler = torch.optim.lr_scheduler.ReduceLROnPlateau(optimizer, factor=config.opt.gamma, patience=config.opt.scheduler_patience, mode='min')\n",
        "elif config.opt.scheduler == 'CosineAnnealingLR':\n",
        "    scheduler = torch.optim.lr_scheduler.CosineAnnealingLR(optimizer, T_max=config.opt.scheduler_T_max)\n",
        "elif config.opt.scheduler == 'StepLR':\n",
        "    scheduler = torch.optim.lr_scheduler.StepLR(optimizer,\n",
        "                                                step_size=config.opt.step_size,\n",
        "                                                gamma=config.opt.gamma)\n",
        "else:\n",
        "    raise ValueError(f'Got {config.opt.scheduler=}')"
      ]
    },
    {
      "cell_type": "markdown",
      "id": "e52a72eb-965a-4997-89a4-0cdfcbcb0a1a",
      "metadata": {
        "id": "e52a72eb-965a-4997-89a4-0cdfcbcb0a1a"
      },
      "source": [
        "# Creating the loss\n",
        "\n",
        "We will optimize the Sobolev norm but also evaluate our goal: the l2 relative error"
      ]
    },
    {
      "cell_type": "code",
      "execution_count": 58,
      "id": "07a53d9d-2d06-4d36-9b46-2c7f15f29c40",
      "metadata": {
        "id": "07a53d9d-2d06-4d36-9b46-2c7f15f29c40"
      },
      "outputs": [],
      "source": [
        "# Creating the losses\n",
        "l2loss = LpLoss(d=2, p=2)\n",
        "h1loss = H1Loss(d=2)\n",
        "if config.opt.training_loss == 'l2':\n",
        "    train_loss = l2loss\n",
        "elif config.opt.training_loss == 'h1':\n",
        "    train_loss = h1loss\n",
        "else:\n",
        "    raise ValueError(f'Got training_loss={config.opt.training_loss} but expected one of [\"l2\", \"h1\"]')\n",
        "eval_losses={'h1': h1loss, 'l2': l2loss}"
      ]
    },
    {
      "cell_type": "code",
      "execution_count": 59,
      "id": "5dad660e-43e9-4f38-91f6-8427b14b8ae0",
      "metadata": {
        "id": "5dad660e-43e9-4f38-91f6-8427b14b8ae0",
        "colab": {
          "base_uri": "https://localhost:8080/"
        },
        "outputId": "88714486-3734-4f29-deeb-fe1862def46c"
      },
      "outputs": [
        {
          "output_type": "stream",
          "name": "stdout",
          "text": [
            "\n",
            "### MODEL ###\n",
            " TFNO2d(\n",
            "  (fno_blocks): FNOBlocks(\n",
            "    (convs): SpectralConv(\n",
            "      (weight): ModuleList(\n",
            "        (0-3): 4 x ComplexDenseTensor(shape=torch.Size([32, 32, 16, 9]), rank=None)\n",
            "      )\n",
            "    )\n",
            "    (fno_skips): ModuleList(\n",
            "      (0-3): 4 x Conv2d(32, 32, kernel_size=(1, 1), stride=(1, 1), bias=False)\n",
            "    )\n",
            "    (mlp): ModuleList(\n",
            "      (0-3): 4 x MLP(\n",
            "        (fcs): ModuleList(\n",
            "          (0): Conv2d(32, 16, kernel_size=(1, 1), stride=(1, 1))\n",
            "          (1): Conv2d(16, 32, kernel_size=(1, 1), stride=(1, 1))\n",
            "        )\n",
            "      )\n",
            "    )\n",
            "    (mlp_skips): ModuleList(\n",
            "      (0-3): 4 x SoftGating()\n",
            "    )\n",
            "    (norm): ModuleList(\n",
            "      (0-7): 8 x GroupNorm(1, 32, eps=1e-05, affine=True)\n",
            "    )\n",
            "  )\n",
            "  (lifting): MLP(\n",
            "    (fcs): ModuleList(\n",
            "      (0): Conv2d(1, 256, kernel_size=(1, 1), stride=(1, 1))\n",
            "      (1): Conv2d(256, 32, kernel_size=(1, 1), stride=(1, 1))\n",
            "    )\n",
            "  )\n",
            "  (projection): MLP(\n",
            "    (fcs): ModuleList(\n",
            "      (0): Conv2d(32, 64, kernel_size=(1, 1), stride=(1, 1))\n",
            "      (1): Conv2d(64, 1, kernel_size=(1, 1), stride=(1, 1))\n",
            "    )\n",
            "  )\n",
            ")\n",
            "\n",
            "### OPTIMIZER ###\n",
            " Adam (\n",
            "Parameter Group 0\n",
            "    amsgrad: False\n",
            "    betas: (0.9, 0.999)\n",
            "    capturable: False\n",
            "    differentiable: False\n",
            "    eps: 1e-08\n",
            "    foreach: None\n",
            "    fused: None\n",
            "    initial_lr: 0.005\n",
            "    lr: 0.005\n",
            "    maximize: False\n",
            "    weight_decay: 0.0001\n",
            ")\n",
            "\n",
            "### SCHEDULER ###\n",
            " <torch.optim.lr_scheduler.StepLR object at 0x7c7824518790>\n",
            "\n",
            "### LOSSES ###\n",
            "\n",
            " * Train: <neuralop.losses.data_losses.H1Loss object at 0x7c78245194e0>\n",
            "\n",
            " * Test: {'h1': <neuralop.losses.data_losses.H1Loss object at 0x7c78245194e0>, 'l2': <neuralop.losses.data_losses.LpLoss object at 0x7c780c84a4d0>}\n",
            "\n",
            "### Beginning Training...\n",
            "\n"
          ]
        }
      ],
      "source": [
        "if config.verbose and is_logger:\n",
        "    print('\\n### MODEL ###\\n', model)\n",
        "    print('\\n### OPTIMIZER ###\\n', optimizer)\n",
        "    print('\\n### SCHEDULER ###\\n', scheduler)\n",
        "    print('\\n### LOSSES ###')\n",
        "    print(f'\\n * Train: {train_loss}')\n",
        "    print(f'\\n * Test: {eval_losses}')\n",
        "    print(f'\\n### Beginning Training...\\n')\n",
        "    sys.stdout.flush()"
      ]
    },
    {
      "cell_type": "markdown",
      "id": "b5967441-b8bc-4ea8-a4d9-7a5bea384cbf",
      "metadata": {
        "id": "b5967441-b8bc-4ea8-a4d9-7a5bea384cbf"
      },
      "source": [
        "# Creating the trainer"
      ]
    },
    {
      "cell_type": "code",
      "execution_count": 60,
      "id": "a19ebfd3-8a2b-42c0-af98-7a1db2dda0f6",
      "metadata": {
        "id": "a19ebfd3-8a2b-42c0-af98-7a1db2dda0f6",
        "colab": {
          "base_uri": "https://localhost:8080/"
        },
        "outputId": "b3a644be-de61-42b1-f3d5-74aa9f781ee4"
      },
      "outputs": [
        {
          "output_type": "stream",
          "name": "stdout",
          "text": [
            "self.override_load_to_device=False\n",
            "self.overrides_loss=False\n"
          ]
        }
      ],
      "source": [
        "trainer = Trainer(model=model, n_epochs=config.opt.n_epochs,\n",
        "                  device=device,\n",
        "                  wandb_log=config.wandb.log,\n",
        "                  log_test_interval=config.wandb.log_test_interval,\n",
        "                  log_output=False,\n",
        "                  use_distributed=config.distributed.use_distributed,\n",
        "                  verbose=config.verbose and is_logger)"
      ]
    },
    {
      "cell_type": "markdown",
      "id": "b16a3727-313d-4219-8f8f-0cec58d74b00",
      "metadata": {
        "id": "b16a3727-313d-4219-8f8f-0cec58d74b00"
      },
      "source": [
        "# Training the model"
      ]
    },
    {
      "cell_type": "code",
      "execution_count": 61,
      "id": "0d6e3298-99ee-4371-8bad-60e6aac03d56",
      "metadata": {
        "id": "0d6e3298-99ee-4371-8bad-60e6aac03d56",
        "colab": {
          "base_uri": "https://localhost:8080/"
        },
        "outputId": "157c95e8-be98-41a8-8eea-a83a25362c86"
      },
      "outputs": [
        {
          "output_type": "execute_result",
          "data": {
            "text/plain": [
              "{'64_h1': 0.6382459831237793, '64_l2': 0.4895939874649048}"
            ]
          },
          "metadata": {},
          "execution_count": 61
        }
      ],
      "source": [
        "trainer.train(train_loader, test_loaders,\n",
        "              optimizer,\n",
        "              scheduler,\n",
        "              regularizer=False,\n",
        "              training_loss=train_loss,\n",
        "              eval_losses=eval_losses)"
      ]
    },
    {
      "cell_type": "markdown",
      "id": "1b20be56-d200-44dc-b97b-fca021e353c8",
      "metadata": {
        "id": "1b20be56-d200-44dc-b97b-fca021e353c8"
      },
      "source": [
        "# Follow-up questions"
      ]
    },
    {
      "cell_type": "markdown",
      "id": "9a67e1d5-4b9a-4be3-bff4-fb2a6b152f9c",
      "metadata": {
        "id": "9a67e1d5-4b9a-4be3-bff4-fb2a6b152f9c"
      },
      "source": [
        "You can now play with the configuration and see how the performance is impacted.\n",
        "\n",
        "Which parameters do you think will most influence performance?\n",
        "Learning rate? Learning schedule? hidden_channels? Number of training samples?\n",
        "\n",
        "Does your intuition match the results you are getting?"
      ]
    }
  ],
  "metadata": {
    "colab": {
      "provenance": []
    },
    "kernelspec": {
      "display_name": "base",
      "language": "python",
      "name": "python3"
    },
    "language_info": {
      "codemirror_mode": {
        "name": "ipython",
        "version": 3
      },
      "file_extension": ".py",
      "mimetype": "text/x-python",
      "name": "python",
      "nbconvert_exporter": "python",
      "pygments_lexer": "ipython3",
      "version": "3.8.8"
    },
    "vscode": {
      "interpreter": {
        "hash": "95d4b27ba6bfea4a66eebe0e0159b214d32a94d313a7f4c98bd9b87f5ee37cbe"
      }
    }
  },
  "nbformat": 4,
  "nbformat_minor": 5
}